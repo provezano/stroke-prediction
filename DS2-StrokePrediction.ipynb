{
 "cells": [
  {
   "cell_type": "code",
   "execution_count": 1,
   "id": "cloudy-cooling",
   "metadata": {},
   "outputs": [],
   "source": [
    "import numpy as np\n",
    "import pandas as pd\n",
    "from sklearn.svm import SVC\n",
    "import matplotlib.pyplot as plt\n",
    "from sklearn.linear_model import Ridge\n",
    "from sklearn.metrics import roc_curve\n",
    "from sklearn.impute import SimpleImputer\n",
    "from sklearn.metrics import roc_auc_score\n",
    "from sklearn.compose import ColumnTransformer\n",
    "from sklearn.ensemble import RandomForestClassifier\n",
    "from sklearn.pipeline import Pipeline, make_pipeline\n",
    "from sklearn.preprocessing import OneHotEncoder, StandardScaler\n",
    "from sklearn.model_selection import GridSearchCV, train_test_split"
   ]
  },
  {
   "cell_type": "markdown",
   "id": "cardiovascular-medium",
   "metadata": {},
   "source": [
    "## 6.1 Load the dataset"
   ]
  },
  {
   "cell_type": "code",
   "execution_count": 2,
   "id": "color-trail",
   "metadata": {},
   "outputs": [],
   "source": [
    "df = pd.read_csv(\"dataset\\healthcare-dataset-stroke-data.csv\", low_memory=False)\n",
    "df.columns = [l.lower() for l in df.columns]"
   ]
  },
  {
   "cell_type": "markdown",
   "id": "civic-heaven",
   "metadata": {},
   "source": [
    "### 6.2 Data Cleaning and Feature Engineering"
   ]
  },
  {
   "cell_type": "code",
   "execution_count": 3,
   "id": "thorough-literature",
   "metadata": {},
   "outputs": [],
   "source": [
    "#Drop ID\n",
    "df.drop(columns=['id'], inplace=True)\n",
    "\n",
    "#Only one sample with gender == 'Other', substitute by the most frequent value (Female)\n",
    "df['gender'] = df['gender'].replace('Other', 'Female')\n",
    "\n",
    "#Create the life_stage feature\n",
    "bins = [0, 1, 4, 12, 19, 39, 59, np.inf]\n",
    "names = ['infant', 'toddler', 'child', 'teen', 'adult', 'middle age adult', 'senior Adult']\n",
    "df['life_stage'] = pd.cut(df['age'], bins, labels=names)\n",
    "\n",
    "#Create the potential_diabetic feature\n",
    "df['potential_diabetic'] = df['avg_glucose_level'].apply(lambda x: 'yes' if x > 170 else 'no')\n",
    "\n",
    "#Apply some modifications to the work_type feature\n",
    "df['work_type'] = df['work_type'].replace('children', 'Never_worked')\n",
    "\n",
    "#Create the worker feature\n",
    "df['worker'] = df['work_type'].apply(lambda x: 'no' if x == 'Never_worked' else 'yes')"
   ]
  },
  {
   "cell_type": "markdown",
   "id": "partial-blocking",
   "metadata": {},
   "source": [
    "### 6.3 Data splitting"
   ]
  },
  {
   "cell_type": "code",
   "execution_count": 4,
   "id": "gothic-walnut",
   "metadata": {},
   "outputs": [],
   "source": [
    "X = df.drop(columns='stroke')\n",
    "y = df['stroke'].values\n",
    "\n",
    "X_train, X_test, y_train, y_test = train_test_split(X, y, random_state=0)"
   ]
  },
  {
   "cell_type": "markdown",
   "id": "diagnostic-scratch",
   "metadata": {},
   "source": [
    "### 6.4 Fill missing values"
   ]
  },
  {
   "cell_type": "code",
   "execution_count": 5,
   "id": "decimal-honduras",
   "metadata": {},
   "outputs": [],
   "source": [
    "features_numeric_pre = ['age', 'hypertension', 'heart_disease', 'avg_glucose_level', 'bmi']\n",
    "features_categoric_pre = ['gender', 'ever_married', 'work_type', 'residence_type', 'smoking_status', 'life_stage', 'potential_diabetic', 'worker']\n",
    "\n",
    "# this imputer imputes with the mean\n",
    "imputer_numeric = Pipeline(steps=[('imputer', SimpleImputer(strategy='mean'))])\n",
    "\n",
    "# this imputer imputes with an arbitrary value\n",
    "imputer_categoric = Pipeline(steps=[('imputer', SimpleImputer(strategy='constant', fill_value='Missing'))])\n",
    "\n",
    "# then we put the features list and the transformers together\n",
    "# using the column transformer\n",
    "\n",
    "preprocessor = ColumnTransformer(transformers=[('imputer_numeric', imputer_numeric, features_numeric_pre),\n",
    "                                               ('imputer_categoric', imputer_categoric, features_categoric_pre)])\n",
    "\n",
    "# now we fit the preprocessor\n",
    "preprocessor.fit(X_train)\n",
    "X_train = preprocessor.transform(X_train)"
   ]
  },
  {
   "cell_type": "code",
   "execution_count": 6,
   "id": "blocked-japan",
   "metadata": {},
   "outputs": [],
   "source": [
    "X_train = pd.DataFrame(X_train, columns = features_numeric_pre+features_categoric_pre)\n",
    "\n",
    "bins = [0, 18.49, 24.99, 29.99, 34.99, 39.99, np.inf]\n",
    "names = ['underweight', 'normal', 'overweight', 'obesity 1', 'obesity 2', 'obesity 3']\n",
    "\n",
    "X_train['bmi_class'] = pd.cut(X_train['bmi'], bins, labels=names)\n",
    "\n",
    "#Without obesity classification\n",
    "X_train['bmi_class_2'] = X_train['bmi_class'].apply(lambda x: 'obesity' if x not in ('underweight', 'normal') else x)"
   ]
  },
  {
   "cell_type": "code",
   "execution_count": 7,
   "id": "mediterranean-disability",
   "metadata": {},
   "outputs": [],
   "source": [
    "X_train = X_train.infer_objects()"
   ]
  },
  {
   "cell_type": "code",
   "execution_count": 8,
   "id": "separated-insured",
   "metadata": {},
   "outputs": [
    {
     "name": "stdout",
     "output_type": "stream",
     "text": [
      "Grid-Search with accuracy\n",
      "Best parameters: {'classifier': Ridge(alpha=0.1), 'classifier__alpha': 0.1, 'encoder': ColumnTransformer(remainder='passthrough',\n",
      "                  transformers=[('enc',\n",
      "                                 OneHotEncoder(drop='first', sparse=False),\n",
      "                                 Index(['gender', 'ever_married', 'work_type', 'residence_type',\n",
      "       'smoking_status', 'life_stage', 'potential_diabetic', 'worker',\n",
      "       'bmi_class', 'bmi_class_2'],\n",
      "      dtype='object'))]), 'scaler': StandardScaler()}\n",
      "Best cross-validation score (accuracy)): 0.836\n"
     ]
    }
   ],
   "source": [
    "\n",
    "\n",
    "features_categoric = X_train.select_dtypes(exclude=['float64']).columns\n",
    "trf2 = ColumnTransformer(transformers =[('enc', OneHotEncoder(sparse = False, drop ='first'), features_categoric),], remainder ='passthrough')\n",
    "\n",
    "pipe = Pipeline([('encoder', trf2), ('scaler', StandardScaler()), ('classifier', SVC())])\n",
    "\n",
    "param_grid = [\n",
    " {'classifier': [Ridge()],\n",
    "  'encoder': [trf2],\n",
    "  'scaler': [StandardScaler(), None],\n",
    "  'classifier__alpha': [0.001, 0.01, 0.1, 1, 10]},\n",
    " {'classifier': [SVC()],\n",
    "  'encoder': [trf2],\n",
    "  'scaler': [StandardScaler(), None],\n",
    "  'classifier__gamma': [0.001, 0.01, 0.1, 1, 10, 100],\n",
    "  'classifier__C': [0.001, 0.01, 0.1, 1, 10, 100]},\n",
    " {'classifier': [RandomForestClassifier(n_estimators=100)],\n",
    "  'encoder': [trf2],\n",
    "  'scaler': [None],\n",
    "  'classifier__max_features': [1, 2, 3]}\n",
    "]\n",
    "\n",
    "grid = GridSearchCV(pipe, param_grid=param_grid, cv=5, n_jobs=-1, scoring='roc_auc')\n",
    "grid.fit(X_train, y_train)\n",
    "\n",
    "print(\"Grid-Search with accuracy\")\n",
    "print(\"Best parameters:\", grid.best_params_)\n",
    "print(\"Best cross-validation score (accuracy)): {:.3f}\".format(grid.best_score_))"
   ]
  },
  {
   "cell_type": "code",
   "execution_count": 9,
   "id": "homeless-citizen",
   "metadata": {},
   "outputs": [],
   "source": [
    "X_test = preprocessor.transform(X_test)\n",
    "X_test = pd.DataFrame(X_test, columns = features_numeric_pre+features_categoric_pre)"
   ]
  },
  {
   "cell_type": "code",
   "execution_count": 10,
   "id": "introductory-webcam",
   "metadata": {},
   "outputs": [],
   "source": [
    "bins = [0, 18.49, 24.99, 29.99, 34.99, 39.99, np.inf]\n",
    "names = ['underweight', 'normal', 'overweight', 'obesity 1', 'obesity 2', 'obesity 3']\n",
    "\n",
    "X_test['bmi_class'] = pd.cut(X_test['bmi'], bins, labels=names)\n",
    "\n",
    "#Without obesity classification\n",
    "X_test['bmi_class_2'] = X_test['bmi_class'].apply(lambda x: 'obesity' if x not in ('underweight', 'normal') else x)"
   ]
  },
  {
   "cell_type": "code",
   "execution_count": 11,
   "id": "mexican-darkness",
   "metadata": {},
   "outputs": [
    {
     "name": "stdout",
     "output_type": "stream",
     "text": [
      "Test set AUC: 0.813\n",
      "Test set accuracy: 0.813\n"
     ]
    }
   ],
   "source": [
    "ridge_preds = grid.predict(X_test)\n",
    "print(\"Test set AUC: {:.3f}\".format(roc_auc_score(y_test, ridge_preds)))\n",
    "print(\"Test set accuracy: {:.3f}\".format(grid.score(X_test, y_test)))"
   ]
  },
  {
   "cell_type": "code",
   "execution_count": 12,
   "id": "molecular-superintendent",
   "metadata": {},
   "outputs": [
    {
     "data": {
      "image/png": "[encoded data removed]",
      "text/plain": [
       "<Figure size 432x288 with 1 Axes>"
      ]
     },
     "metadata": {
      "needs_background": "light"
     },
     "output_type": "display_data"
    }
   ],
   "source": [
    "fpr, tpr, thresholds = roc_curve(y_test, grid.predict(X_test))\n",
    "\n",
    "plt.plot(fpr, tpr, label=\"ROC Curve\")\n",
    "plt.xlabel(\"FPR\")\n",
    "plt.ylabel(\"TPR (recall)\")\n",
    "\n",
    "close_zero = np.argmin(np.abs(thresholds))\n",
    "plt.plot(fpr[close_zero], tpr[close_zero], 'o', markersize=10, label=\"threshold zero\", fillstyle=\"none\", c='k', mew=2)\n",
    "plt.legend(loc=4);"
   ]
  }
 ],
 "metadata": {
  "kernelspec": {
   "display_name": "Python 3",
   "language": "python",
   "name": "python3"
  },
  "language_info": {
   "codemirror_mode": {
    "name": "ipython",
    "version": 3
   },
   "file_extension": ".py",
   "mimetype": "text/x-python",
   "name": "python",
   "nbconvert_exporter": "python",
   "pygments_lexer": "ipython3",
   "version": "3.7.10"
  }
 },
 "nbformat": 4,
 "nbformat_minor": 5
}
