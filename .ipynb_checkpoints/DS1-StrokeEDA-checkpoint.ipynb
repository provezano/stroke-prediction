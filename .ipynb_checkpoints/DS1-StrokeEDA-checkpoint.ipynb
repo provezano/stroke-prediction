{
 "cells": [
  {
   "cell_type": "markdown",
   "id": "continental-segment",
   "metadata": {},
   "source": [
    "# Libraries"
   ]
  },
  {
   "cell_type": "code",
   "execution_count": 1,
   "id": "parliamentary-macro",
   "metadata": {
    "ExecuteTime": {
     "end_time": "2021-03-28T06:42:45.510662Z",
     "start_time": "2021-03-28T06:42:45.488721Z"
    }
   },
   "outputs": [],
   "source": [
    "import numpy as np\n",
    "import pandas as pd\n",
    "import seaborn as sns\n",
    "from tabulate import tabulate\n",
    "import matplotlib.pyplot as plt\n",
    "from scipy.stats import pointbiserialr\n",
    "from scipy.stats import chi2_contingency\n",
    "\n",
    "from IPython.core.display import display, HTML"
   ]
  },
  {
   "cell_type": "markdown",
   "id": "promotional-fitting",
   "metadata": {},
   "source": [
    "# Functions"
   ]
  },
  {
   "cell_type": "code",
   "execution_count": 2,
   "id": "fleet-norman",
   "metadata": {
    "ExecuteTime": {
     "end_time": "2021-03-28T06:42:26.584741Z",
     "start_time": "2021-03-28T06:42:26.577271Z"
    }
   },
   "outputs": [],
   "source": [
    "#Source: https://www.kaggle.com/chrisbss1/cramer-s-v-correlation-matrix\n",
    "def cramers_V(var1,var2):\n",
    "    crosstab =np.array(pd.crosstab(var1, var2, rownames=None, colnames=None)) # Cross table building\n",
    "    stat = chi2_contingency(crosstab)[0] # Keeping of the test statistic of the Chi2 test\n",
    "    obs = np.sum(crosstab) # Number of observations\n",
    "    mini = min(crosstab.shape)-1 # Take the minimum value between the columns and the rows of the cross table\n",
    "    return (stat/(obs*mini))\n",
    "\n",
    "#Source: https://stackoverflow.com/a/57832026\n",
    "def display_side_by_side(dfs:list, captions:list):\n",
    "    \"\"\"Display tables side by side to save vertical space\n",
    "    Input:\n",
    "        dfs: list of pandas.DataFrame\n",
    "        captions: list of table captions\n",
    "    \"\"\"\n",
    "    output = \"\"\n",
    "    combined = dict(zip(captions, dfs))\n",
    "    for caption, df in combined.items():\n",
    "        output += df.style.set_table_attributes(\"style='display:inline'\").set_caption(caption)._repr_html_()\n",
    "        output += \"\\xa0\\xa0\\xa0\"\n",
    "    display(HTML(output))"
   ]
  },
  {
   "cell_type": "markdown",
   "id": "prescription-looking",
   "metadata": {},
   "source": [
    "# 1.0 Loading dataset"
   ]
  },
  {
   "cell_type": "code",
   "execution_count": 3,
   "id": "vulnerable-consumer",
   "metadata": {
    "ExecuteTime": {
     "end_time": "2021-03-28T06:40:00.485960Z",
     "start_time": "2021-03-28T06:40:00.448280Z"
    }
   },
   "outputs": [],
   "source": [
    "df_raw = pd.read_csv(\"dataset\\healthcare-dataset-stroke-data.csv\", low_memory=False)\n",
    "df_raw.drop(columns=['id'], inplace=True)"
   ]
  },
  {
   "cell_type": "markdown",
   "id": "romance-document",
   "metadata": {},
   "source": [
    "# 2.0 Data Description"
   ]
  },
  {
   "cell_type": "markdown",
   "id": "clean-conspiracy",
   "metadata": {},
   "source": [
    "The dataset has the following features:"
   ]
  },
  {
   "cell_type": "markdown",
   "id": "immediate-series",
   "metadata": {},
   "source": [
    "* id: unique identifier\n",
    "* gender: \"Male\", \"Female\" or \"Other\"\n",
    "* age: age of the patient\n",
    "* hypertension: 0 if the patient doesn't have hypertension, 1 if the patient has hypertension\n",
    "* heart_disease: 0 if the patient doesn't have any heart diseases, 1 if the patient has a heart disease\n",
    "* ever_married: \"No\" or \"Yes\"\n",
    "* work_type: \"children\", \"Govt_jov\", \"Never_worked\", \"Private\" or \"Self-employed\"\n",
    "* Residence_type: \"Rural\" or \"Urban\"\n",
    "* avg_glucose_level: average glucose level in blood\n",
    "* bmi: body mass index\n",
    "* smoking_status: \"formerly smoked\", \"never smoked\", \"smokes\" or \"Unknown\"*\n",
    "* stroke: 1 if the patient had a stroke or 0 if not\n",
    "\n",
    "\"Unknown\" in smoking_status means that the information is unavailable for this patient"
   ]
  },
  {
   "cell_type": "markdown",
   "id": "mental-representation",
   "metadata": {
    "ExecuteTime": {
     "end_time": "2021-03-27T20:17:12.421868Z",
     "start_time": "2021-03-27T20:17:12.412422Z"
    }
   },
   "source": [
    "## 2.1 Renaming columns"
   ]
  },
  {
   "cell_type": "markdown",
   "id": "simplified-reaction",
   "metadata": {},
   "source": [
    "In this substep I'm renaming the columns to the snakecase."
   ]
  },
  {
   "cell_type": "code",
   "execution_count": 4,
   "id": "governing-bronze",
   "metadata": {
    "ExecuteTime": {
     "end_time": "2021-03-28T06:40:00.501644Z",
     "start_time": "2021-03-28T06:40:00.485960Z"
    }
   },
   "outputs": [],
   "source": [
    "df_raw.columns = ['gender', 'age', 'hypertension', 'heart_disease', 'ever_married', 'work_type', 'residence_type',\n",
    "                  'avg_glucose_level', 'bmi', 'smoking_status', 'stroke']"
   ]
  },
  {
   "cell_type": "markdown",
   "id": "brazilian-mirror",
   "metadata": {},
   "source": [
    "## 2.2 Data Dimension"
   ]
  },
  {
   "cell_type": "code",
   "execution_count": 5,
   "id": "nominated-biodiversity",
   "metadata": {
    "ExecuteTime": {
     "end_time": "2021-03-28T06:40:00.517602Z",
     "start_time": "2021-03-28T06:40:00.502641Z"
    }
   },
   "outputs": [
    {
     "name": "stdout",
     "output_type": "stream",
     "text": [
      "This dataset has 5110 rows and 11 columns.\n"
     ]
    }
   ],
   "source": [
    "print(\"This dataset has {} rows and {} columns.\".format(*df_raw.shape))"
   ]
  },
  {
   "cell_type": "markdown",
   "id": "blocked-nicaragua",
   "metadata": {},
   "source": [
    "5110 are possible little data for Stroke Prediction. We'll confirm this in the Exploratory Analysis step."
   ]
  },
  {
   "cell_type": "markdown",
   "id": "bacterial-reynolds",
   "metadata": {},
   "source": [
    "## 2.3 Data Types"
   ]
  },
  {
   "cell_type": "code",
   "execution_count": 6,
   "id": "consistent-india",
   "metadata": {
    "ExecuteTime": {
     "end_time": "2021-03-28T06:40:00.532562Z",
     "start_time": "2021-03-28T06:40:00.519596Z"
    }
   },
   "outputs": [
    {
     "data": {
      "text/plain": [
       "gender                object\n",
       "age                  float64\n",
       "hypertension           int64\n",
       "heart_disease          int64\n",
       "ever_married          object\n",
       "work_type             object\n",
       "residence_type        object\n",
       "avg_glucose_level    float64\n",
       "bmi                  float64\n",
       "smoking_status        object\n",
       "stroke                 int64\n",
       "dtype: object"
      ]
     },
     "execution_count": 6,
     "metadata": {},
     "output_type": "execute_result"
    }
   ],
   "source": [
    "df_raw.dtypes"
   ]
  },
  {
   "cell_type": "markdown",
   "id": "according-center",
   "metadata": {},
   "source": [
    "## 2.4 Check NAs"
   ]
  },
  {
   "cell_type": "code",
   "execution_count": 7,
   "id": "framed-memorial",
   "metadata": {
    "ExecuteTime": {
     "end_time": "2021-03-28T06:40:00.548518Z",
     "start_time": "2021-03-28T06:40:00.533559Z"
    }
   },
   "outputs": [
    {
     "data": {
      "text/plain": [
       "gender                 0\n",
       "age                    0\n",
       "hypertension           0\n",
       "heart_disease          0\n",
       "ever_married           0\n",
       "work_type              0\n",
       "residence_type         0\n",
       "avg_glucose_level      0\n",
       "bmi                  201\n",
       "smoking_status         0\n",
       "stroke                 0\n",
       "dtype: int64"
      ]
     },
     "execution_count": 7,
     "metadata": {},
     "output_type": "execute_result"
    }
   ],
   "source": [
    "df_raw.isna().sum()"
   ]
  },
  {
   "cell_type": "markdown",
   "id": "adjusted-friday",
   "metadata": {},
   "source": [
    "We also have 'Unknown' value for smoking_status which can be considered as a NA value."
   ]
  },
  {
   "cell_type": "code",
   "execution_count": 8,
   "id": "purple-escape",
   "metadata": {
    "ExecuteTime": {
     "end_time": "2021-03-28T06:40:00.563478Z",
     "start_time": "2021-03-28T06:40:00.551511Z"
    }
   },
   "outputs": [
    {
     "data": {
      "text/plain": [
       "never smoked       1892\n",
       "Unknown            1544\n",
       "formerly smoked     885\n",
       "smokes              789\n",
       "Name: smoking_status, dtype: int64"
      ]
     },
     "execution_count": 8,
     "metadata": {},
     "output_type": "execute_result"
    }
   ],
   "source": [
    "df_raw['smoking_status'].value_counts()"
   ]
  },
  {
   "cell_type": "code",
   "execution_count": 9,
   "id": "numerous-hawaii",
   "metadata": {
    "ExecuteTime": {
     "end_time": "2021-03-28T06:40:00.579436Z",
     "start_time": "2021-03-28T06:40:00.565473Z"
    }
   },
   "outputs": [
    {
     "name": "stdout",
     "output_type": "stream",
     "text": [
      "smoking_status=Unknown corresponds to 30.22% of the dataset.\n"
     ]
    }
   ],
   "source": [
    "qtd_unk = df_raw[df_raw['smoking_status']=='Unknown'].shape[0]/df_raw.shape[0]\n",
    "print('smoking_status=Unknown corresponds to {:.2f}% of the dataset.'.format(qtd_unk*100))"
   ]
  },
  {
   "cell_type": "markdown",
   "id": "ancient-stocks",
   "metadata": {},
   "source": [
    "Clearly, we can't drop 30% of our data. Therefore, we should make a decision here. Use this data as is, or to predict the values for smoking_status=Unknown."
   ]
  },
  {
   "cell_type": "markdown",
   "id": "cooked-jacksonville",
   "metadata": {},
   "source": [
    "## 2.5 Descriptive Statistics"
   ]
  },
  {
   "cell_type": "markdown",
   "id": "closed-navigator",
   "metadata": {},
   "source": [
    "### 2.5.1 Numerical Features"
   ]
  },
  {
   "cell_type": "code",
   "execution_count": 10,
   "id": "descending-chosen",
   "metadata": {
    "ExecuteTime": {
     "end_time": "2021-03-28T06:40:00.625313Z",
     "start_time": "2021-03-28T06:40:00.580433Z"
    }
   },
   "outputs": [
    {
     "data": {
      "text/html": [
       "<div>\n",
       "<style scoped>\n",
       "    .dataframe tbody tr th:only-of-type {\n",
       "        vertical-align: middle;\n",
       "    }\n",
       "\n",
       "    .dataframe tbody tr th {\n",
       "        vertical-align: top;\n",
       "    }\n",
       "\n",
       "    .dataframe thead th {\n",
       "        text-align: right;\n",
       "    }\n",
       "</style>\n",
       "<table border=\"1\" class=\"dataframe\">\n",
       "  <thead>\n",
       "    <tr style=\"text-align: right;\">\n",
       "      <th></th>\n",
       "      <th>count</th>\n",
       "      <th>mean</th>\n",
       "      <th>std</th>\n",
       "      <th>min</th>\n",
       "      <th>25%</th>\n",
       "      <th>50%</th>\n",
       "      <th>75%</th>\n",
       "      <th>max</th>\n",
       "      <th>skew</th>\n",
       "      <th>kurtosis</th>\n",
       "    </tr>\n",
       "  </thead>\n",
       "  <tbody>\n",
       "    <tr>\n",
       "      <th>age</th>\n",
       "      <td>5110.0</td>\n",
       "      <td>43.2266</td>\n",
       "      <td>22.6126</td>\n",
       "      <td>0.08</td>\n",
       "      <td>25.000</td>\n",
       "      <td>45.000</td>\n",
       "      <td>61.00</td>\n",
       "      <td>82.00</td>\n",
       "      <td>-0.1371</td>\n",
       "      <td>-0.9910</td>\n",
       "    </tr>\n",
       "    <tr>\n",
       "      <th>hypertension</th>\n",
       "      <td>5110.0</td>\n",
       "      <td>0.0975</td>\n",
       "      <td>0.2966</td>\n",
       "      <td>0.00</td>\n",
       "      <td>0.000</td>\n",
       "      <td>0.000</td>\n",
       "      <td>0.00</td>\n",
       "      <td>1.00</td>\n",
       "      <td>2.7154</td>\n",
       "      <td>5.3755</td>\n",
       "    </tr>\n",
       "    <tr>\n",
       "      <th>heart_disease</th>\n",
       "      <td>5110.0</td>\n",
       "      <td>0.0540</td>\n",
       "      <td>0.2261</td>\n",
       "      <td>0.00</td>\n",
       "      <td>0.000</td>\n",
       "      <td>0.000</td>\n",
       "      <td>0.00</td>\n",
       "      <td>1.00</td>\n",
       "      <td>3.9472</td>\n",
       "      <td>13.5861</td>\n",
       "    </tr>\n",
       "    <tr>\n",
       "      <th>avg_glucose_level</th>\n",
       "      <td>5110.0</td>\n",
       "      <td>106.1477</td>\n",
       "      <td>45.2836</td>\n",
       "      <td>55.12</td>\n",
       "      <td>77.245</td>\n",
       "      <td>91.885</td>\n",
       "      <td>114.09</td>\n",
       "      <td>271.74</td>\n",
       "      <td>1.5723</td>\n",
       "      <td>1.6805</td>\n",
       "    </tr>\n",
       "    <tr>\n",
       "      <th>bmi</th>\n",
       "      <td>4909.0</td>\n",
       "      <td>28.8932</td>\n",
       "      <td>7.8541</td>\n",
       "      <td>10.30</td>\n",
       "      <td>23.500</td>\n",
       "      <td>28.100</td>\n",
       "      <td>33.10</td>\n",
       "      <td>97.60</td>\n",
       "      <td>1.0553</td>\n",
       "      <td>3.3627</td>\n",
       "    </tr>\n",
       "    <tr>\n",
       "      <th>stroke</th>\n",
       "      <td>5110.0</td>\n",
       "      <td>0.0487</td>\n",
       "      <td>0.2153</td>\n",
       "      <td>0.00</td>\n",
       "      <td>0.000</td>\n",
       "      <td>0.000</td>\n",
       "      <td>0.00</td>\n",
       "      <td>1.00</td>\n",
       "      <td>4.1933</td>\n",
       "      <td>15.5897</td>\n",
       "    </tr>\n",
       "  </tbody>\n",
       "</table>\n",
       "</div>"
      ],
      "text/plain": [
       "                    count      mean      std    min     25%     50%     75%  \\\n",
       "age                5110.0   43.2266  22.6126   0.08  25.000  45.000   61.00   \n",
       "hypertension       5110.0    0.0975   0.2966   0.00   0.000   0.000    0.00   \n",
       "heart_disease      5110.0    0.0540   0.2261   0.00   0.000   0.000    0.00   \n",
       "avg_glucose_level  5110.0  106.1477  45.2836  55.12  77.245  91.885  114.09   \n",
       "bmi                4909.0   28.8932   7.8541  10.30  23.500  28.100   33.10   \n",
       "stroke             5110.0    0.0487   0.2153   0.00   0.000   0.000    0.00   \n",
       "\n",
       "                      max    skew  kurtosis  \n",
       "age                 82.00 -0.1371   -0.9910  \n",
       "hypertension         1.00  2.7154    5.3755  \n",
       "heart_disease        1.00  3.9472   13.5861  \n",
       "avg_glucose_level  271.74  1.5723    1.6805  \n",
       "bmi                 97.60  1.0553    3.3627  \n",
       "stroke               1.00  4.1933   15.5897  "
      ]
     },
     "execution_count": 10,
     "metadata": {},
     "output_type": "execute_result"
    }
   ],
   "source": [
    "stats = df_raw.describe()\n",
    "\n",
    "stats.loc['skew'] = df_raw.skew().tolist()\n",
    "stats.loc['kurtosis'] = df_raw.kurtosis().tolist()\n",
    "\n",
    "stats.round(decimals=4).T"
   ]
  },
  {
   "cell_type": "markdown",
   "id": "streaming-mortality",
   "metadata": {},
   "source": [
    "#### Age"
   ]
  },
  {
   "cell_type": "markdown",
   "id": "fatal-assistant",
   "metadata": {},
   "source": [
    "##### Age as Float"
   ]
  },
  {
   "cell_type": "markdown",
   "id": "dramatic-spank",
   "metadata": {},
   "source": [
    "Curiously, the minumum age is 0.8. In Data Type subsection, we can see that Age is represented as floor. The question is why?!"
   ]
  },
  {
   "cell_type": "markdown",
   "id": "indirect-cabinet",
   "metadata": {},
   "source": [
    "We can investigate what are the values in which are not whole numbers."
   ]
  },
  {
   "cell_type": "code",
   "execution_count": 11,
   "id": "developmental-adjustment",
   "metadata": {
    "ExecuteTime": {
     "end_time": "2021-03-28T06:40:00.641271Z",
     "start_time": "2021-03-28T06:40:00.626311Z"
    }
   },
   "outputs": [
    {
     "name": "stdout",
     "output_type": "stream",
     "text": [
      "[1.8, 1.88, 1.64, 1.32, 1.24, 1.08, 1.72, 1.48, 0.32, 0.24, 0.56, 0.88, 0.72, 1.16, 1.56, 0.8, 0.64, 0.48, 1.4, 0.16, 0.08, 0.4]\n"
     ]
    }
   ],
   "source": [
    "age_as_float = [k for k in df_raw['age'].value_counts().keys() if not (k).is_integer()]\n",
    "print(age_as_float)"
   ]
  },
  {
   "cell_type": "code",
   "execution_count": 12,
   "id": "figured-program",
   "metadata": {
    "ExecuteTime": {
     "end_time": "2021-03-28T06:40:00.657228Z",
     "start_time": "2021-03-28T06:40:00.642269Z"
    }
   },
   "outputs": [
    {
     "name": "stdout",
     "output_type": "stream",
     "text": [
      "Ages from 0.08 to 1.88 are represented as float.\n"
     ]
    }
   ],
   "source": [
    "print('Ages from {} to {} are represented as float.'.format(min(age_as_float), max(age_as_float)))"
   ]
  },
  {
   "cell_type": "markdown",
   "id": "liquid-indie",
   "metadata": {},
   "source": [
    "Again, we have to decide to standardize the values for this feature or to use this feature as it is.\n",
    "As babies' ages commonly measured in years and months together. I've decided to keep this feature as float."
   ]
  },
  {
   "cell_type": "markdown",
   "id": "incorporated-dubai",
   "metadata": {},
   "source": [
    "##### Mean + Std"
   ]
  },
  {
   "cell_type": "markdown",
   "id": "continued-monday",
   "metadata": {},
   "source": [
    "According to Stanford Healthcare (and other sources), the majority of strokes occur in people who are 65 or older.\n",
    "As many as 10% of people in the U.S. who experience a stroke are younger than 45."
   ]
  },
  {
   "cell_type": "markdown",
   "id": "historic-driving",
   "metadata": {},
   "source": [
    "It's not clear if the patients are from U.S or other country, but anyway 43 for a mean and 45 for a median is kinda strange value compared to other studies."
   ]
  },
  {
   "cell_type": "markdown",
   "id": "grave-marine",
   "metadata": {},
   "source": [
    "##### Skewness and Kurtosis"
   ]
  },
  {
   "cell_type": "code",
   "execution_count": 13,
   "id": "subtle-academy",
   "metadata": {
    "ExecuteTime": {
     "end_time": "2021-03-28T06:40:00.849410Z",
     "start_time": "2021-03-28T06:40:00.659224Z"
    }
   },
   "outputs": [
    {
     "data": {
      "image/png": "[encoded data removed]",
      "text/plain": [
       "<Figure size 432x288 with 1 Axes>"
      ]
     },
     "metadata": {
      "needs_background": "light"
     },
     "output_type": "display_data"
    }
   ],
   "source": [
    "sns.histplot(x='age', kde=True, data=df_raw);"
   ]
  },
  {
   "cell_type": "markdown",
   "id": "generous-volunteer",
   "metadata": {},
   "source": [
    "The Figure above shows indeed we have many samples with approximatelly 40 years old, but a left skewed (negative) distribution and the negative kutosis indicates the disitribution is flattened."
   ]
  },
  {
   "cell_type": "markdown",
   "id": "third-province",
   "metadata": {},
   "source": [
    "#### Hypertension"
   ]
  },
  {
   "cell_type": "code",
   "execution_count": 14,
   "id": "thirty-aquatic",
   "metadata": {
    "ExecuteTime": {
     "end_time": "2021-03-28T06:40:00.949070Z",
     "start_time": "2021-03-28T06:40:00.849410Z"
    }
   },
   "outputs": [
    {
     "data": {
      "image/png": "[encoded data removed]",
      "text/plain": [
       "<Figure size 432x288 with 1 Axes>"
      ]
     },
     "metadata": {
      "needs_background": "light"
     },
     "output_type": "display_data"
    }
   ],
   "source": [
    "sns.countplot(x='hypertension', data=df_raw);"
   ]
  },
  {
   "cell_type": "code",
   "execution_count": 15,
   "id": "extraordinary-mainstream",
   "metadata": {
    "ExecuteTime": {
     "end_time": "2021-03-28T06:40:00.965027Z",
     "start_time": "2021-03-28T06:40:00.950075Z"
    }
   },
   "outputs": [
    {
     "name": "stdout",
     "output_type": "stream",
     "text": [
      "90.25% didn't have hypertension.\n"
     ]
    }
   ],
   "source": [
    "print(\"{:.2f}% didn't have hypertension.\".format(100*sum(df_raw['hypertension']==0)/df_raw['hypertension'].shape[0]))"
   ]
  },
  {
   "cell_type": "markdown",
   "id": "awful-validation",
   "metadata": {},
   "source": [
    "#### Heart Disease"
   ]
  },
  {
   "cell_type": "code",
   "execution_count": 16,
   "id": "tracked-headquarters",
   "metadata": {
    "ExecuteTime": {
     "end_time": "2021-03-28T06:40:01.043816Z",
     "start_time": "2021-03-28T06:40:00.966031Z"
    }
   },
   "outputs": [
    {
     "data": {
      "image/png": "[encoded data removed]",
      "text/plain": [
       "<Figure size 432x288 with 1 Axes>"
      ]
     },
     "metadata": {
      "needs_background": "light"
     },
     "output_type": "display_data"
    }
   ],
   "source": [
    "sns.countplot(x='heart_disease', data=df_raw);"
   ]
  },
  {
   "cell_type": "code",
   "execution_count": 17,
   "id": "elder-baker",
   "metadata": {
    "ExecuteTime": {
     "end_time": "2021-03-28T06:40:01.059774Z",
     "start_time": "2021-03-28T06:40:01.044814Z"
    }
   },
   "outputs": [
    {
     "name": "stdout",
     "output_type": "stream",
     "text": [
      "94.60% didn't have heart disease.\n"
     ]
    }
   ],
   "source": [
    "print(\"{:.2f}% didn't have heart disease.\".format(100*sum(df_raw['heart_disease']==0)/df_raw['heart_disease'].shape[0]))"
   ]
  },
  {
   "cell_type": "markdown",
   "id": "undefined-ensemble",
   "metadata": {},
   "source": [
    "#### Average Glucose Level"
   ]
  },
  {
   "cell_type": "code",
   "execution_count": 18,
   "id": "advanced-maldives",
   "metadata": {
    "ExecuteTime": {
     "end_time": "2021-03-28T06:40:01.485647Z",
     "start_time": "2021-03-28T06:40:01.060775Z"
    }
   },
   "outputs": [
    {
     "data": {
      "image/png": "[encoded data removed]",
      "text/plain": [
       "<Figure size 640x480 with 1 Axes>"
      ]
     },
     "metadata": {
      "needs_background": "light"
     },
     "output_type": "display_data"
    }
   ],
   "source": [
    "plt.figure(figsize=(8, 6), dpi=80);\n",
    "\n",
    "sns.histplot(df_raw['avg_glucose_level']);\n",
    "plt.xticks(np.arange(50, 250, 5), rotation=90);"
   ]
  },
  {
   "cell_type": "markdown",
   "id": "pleasant-capital",
   "metadata": {},
   "source": [
    "With a median lower than mean, avg_glucose_level shows a positive skewed distribution. Actually, we can consider this feature\n",
    "as a bimodal distribution. Therefore it can make sense to break this distribution in two ( <= 170 and > 170)."
   ]
  },
  {
   "cell_type": "markdown",
   "id": "dramatic-headline",
   "metadata": {
    "ExecuteTime": {
     "end_time": "2021-03-27T22:17:10.333953Z",
     "start_time": "2021-03-27T22:17:10.326467Z"
    }
   },
   "source": [
    "According to https://www.diabetes.co.uk/diabetes_care/blood-sugar-level-ranges.html, we can measure glucose level in some\n",
    "different ways (at random, fasting, 2 hour postprandial). We do not know how the test was done in this dataset. We'll assume\n",
    "a random test and that the patients with more than 170 are part of group 2 (potential diabetics)."
   ]
  },
  {
   "cell_type": "code",
   "execution_count": 19,
   "id": "written-tumor",
   "metadata": {
    "ExecuteTime": {
     "end_time": "2021-03-28T06:40:01.719036Z",
     "start_time": "2021-03-28T06:40:01.486644Z"
    }
   },
   "outputs": [
    {
     "name": "stdout",
     "output_type": "stream",
     "text": [
      "Stats for this new feature\n",
      "count       4488.0000\n",
      "mean          91.5222\n",
      "std           22.7728\n",
      "min           55.1200\n",
      "25%           75.0675\n",
      "50%           87.9900\n",
      "75%          104.0200\n",
      "max          169.9700\n",
      "skew           0.8742\n",
      "kurtosis       0.6896\n",
      "Name: avg_glucose_level, dtype: float64\n"
     ]
    },
    {
     "data": {
      "image/png": "[encoded data removed]",
      "text/plain": [
       "<Figure size 640x480 with 1 Axes>"
      ]
     },
     "metadata": {
      "needs_background": "light"
     },
     "output_type": "display_data"
    }
   ],
   "source": [
    "plt.figure(figsize=(8, 6), dpi=80);\n",
    "\n",
    "data_aux = df_raw[df_raw['avg_glucose_level']<=170]['avg_glucose_level']\n",
    "\n",
    "stats_glucose = data_aux.describe()\n",
    "stats_glucose.loc['skew'] = data_aux.skew().tolist()\n",
    "stats_glucose.loc['kurtosis'] = data_aux.kurtosis().tolist()\n",
    "\n",
    "print('Stats for this new feature\\n{}'.format(stats_glucose.round(decimals=4)));\n",
    "\n",
    "sns.histplot(data_aux);\n",
    "plt.xticks(np.arange(int(data_aux.min()), data_aux.max(), 5), rotation=90);"
   ]
  },
  {
   "cell_type": "code",
   "execution_count": 20,
   "id": "authentic-insurance",
   "metadata": {
    "ExecuteTime": {
     "end_time": "2021-03-28T06:40:01.990364Z",
     "start_time": "2021-03-28T06:40:01.720033Z"
    }
   },
   "outputs": [
    {
     "name": "stdout",
     "output_type": "stream",
     "text": [
      "Stats for this new feature\n",
      "count       622.0000\n",
      "mean        211.6767\n",
      "std          20.5694\n",
      "min         170.0500\n",
      "25%         197.0675\n",
      "50%         210.4400\n",
      "75%         226.7450\n",
      "max         271.7400\n",
      "skew          0.2406\n",
      "kurtosis     -0.3213\n",
      "Name: avg_glucose_level, dtype: float64\n"
     ]
    },
    {
     "data": {
      "image/png": "[encoded data removed]",
      "text/plain": [
       "<Figure size 640x480 with 1 Axes>"
      ]
     },
     "metadata": {
      "needs_background": "light"
     },
     "output_type": "display_data"
    }
   ],
   "source": [
    "plt.figure(figsize=(8, 6), dpi=80);\n",
    "\n",
    "data_aux = df_raw[df_raw['avg_glucose_level']>170]['avg_glucose_level']\n",
    "\n",
    "stats_glucose = data_aux.describe()\n",
    "stats_glucose.loc['skew'] = data_aux.skew().tolist()\n",
    "stats_glucose.loc['kurtosis'] = data_aux.kurtosis().tolist()\n",
    "\n",
    "print('Stats for this new feature\\n{}'.format(stats_glucose.round(decimals=4)));\n",
    "\n",
    "sns.histplot(data_aux);\n",
    "plt.xticks(np.arange(int(data_aux.min()), data_aux.max(), 5), rotation=90);"
   ]
  },
  {
   "cell_type": "markdown",
   "id": "offshore-shelf",
   "metadata": {},
   "source": [
    "Now we have two distributions one for normal patients and other for potential diabetics. We can separate these two groups by creating a new feature."
   ]
  },
  {
   "cell_type": "markdown",
   "id": "formal-highlight",
   "metadata": {
    "heading_collapsed": true
   },
   "source": [
    "#### BMI"
   ]
  },
  {
   "cell_type": "code",
   "execution_count": 21,
   "id": "concerned-departure",
   "metadata": {
    "ExecuteTime": {
     "end_time": "2021-03-28T06:40:02.244193Z",
     "start_time": "2021-03-28T06:40:01.992360Z"
    },
    "hidden": true
   },
   "outputs": [
    {
     "data": {
      "image/png": "[encoded data removed]",
      "text/plain": [
       "<Figure size 640x480 with 1 Axes>"
      ]
     },
     "metadata": {
      "needs_background": "light"
     },
     "output_type": "display_data"
    }
   ],
   "source": [
    "plt.figure(figsize=(8, 6), dpi=80);\n",
    "sns.histplot(data=df_raw, x='bmi', kde=True);"
   ]
  },
  {
   "cell_type": "markdown",
   "id": "gentle-conditioning",
   "metadata": {
    "hidden": true
   },
   "source": [
    "bmi has a positive skewed distribution with a high kurtosis. This means the values are concentrated around the mean, with little spread."
   ]
  },
  {
   "cell_type": "markdown",
   "id": "numerous-rental",
   "metadata": {
    "hidden": true
   },
   "source": [
    "We have missing values for bmi (around 4% of the dataset), in this case we'll have to estimate those values as we do not have the values to compute it."
   ]
  },
  {
   "cell_type": "markdown",
   "id": "oriental-elimination",
   "metadata": {
    "hidden": true
   },
   "source": [
    "Furthermore, BMI has some classifications around the World we can use to add some new features to our dataset. "
   ]
  },
  {
   "cell_type": "markdown",
   "id": "respected-berkeley",
   "metadata": {
    "heading_collapsed": true
   },
   "source": [
    "#### Stroke (Target)"
   ]
  },
  {
   "cell_type": "code",
   "execution_count": 22,
   "id": "offshore-penetration",
   "metadata": {
    "ExecuteTime": {
     "end_time": "2021-03-28T06:40:02.337942Z",
     "start_time": "2021-03-28T06:40:02.246188Z"
    },
    "hidden": true
   },
   "outputs": [
    {
     "data": {
      "image/png": "[encoded data removed]",
      "text/plain": [
       "<Figure size 432x288 with 1 Axes>"
      ]
     },
     "metadata": {
      "needs_background": "light"
     },
     "output_type": "display_data"
    }
   ],
   "source": [
    "sns.countplot(x='stroke', data=df_raw);"
   ]
  },
  {
   "cell_type": "markdown",
   "id": "figured-funds",
   "metadata": {
    "hidden": true
   },
   "source": [
    "And finally, we have a highly imbalanced dataset. As expected?"
   ]
  },
  {
   "cell_type": "markdown",
   "id": "pursuant-fighter",
   "metadata": {},
   "source": [
    "### 2.5.2 Categorical Features"
   ]
  },
  {
   "cell_type": "code",
   "execution_count": 23,
   "id": "french-order",
   "metadata": {
    "ExecuteTime": {
     "end_time": "2021-03-28T06:40:02.369857Z",
     "start_time": "2021-03-28T06:40:02.338939Z"
    }
   },
   "outputs": [
    {
     "data": {
      "text/html": [
       "<div>\n",
       "<style scoped>\n",
       "    .dataframe tbody tr th:only-of-type {\n",
       "        vertical-align: middle;\n",
       "    }\n",
       "\n",
       "    .dataframe tbody tr th {\n",
       "        vertical-align: top;\n",
       "    }\n",
       "\n",
       "    .dataframe thead th {\n",
       "        text-align: right;\n",
       "    }\n",
       "</style>\n",
       "<table border=\"1\" class=\"dataframe\">\n",
       "  <thead>\n",
       "    <tr style=\"text-align: right;\">\n",
       "      <th></th>\n",
       "      <th>count</th>\n",
       "      <th>unique</th>\n",
       "      <th>top</th>\n",
       "      <th>freq</th>\n",
       "    </tr>\n",
       "  </thead>\n",
       "  <tbody>\n",
       "    <tr>\n",
       "      <th>gender</th>\n",
       "      <td>5110</td>\n",
       "      <td>3</td>\n",
       "      <td>Female</td>\n",
       "      <td>2994</td>\n",
       "    </tr>\n",
       "    <tr>\n",
       "      <th>ever_married</th>\n",
       "      <td>5110</td>\n",
       "      <td>2</td>\n",
       "      <td>Yes</td>\n",
       "      <td>3353</td>\n",
       "    </tr>\n",
       "    <tr>\n",
       "      <th>work_type</th>\n",
       "      <td>5110</td>\n",
       "      <td>5</td>\n",
       "      <td>Private</td>\n",
       "      <td>2925</td>\n",
       "    </tr>\n",
       "    <tr>\n",
       "      <th>residence_type</th>\n",
       "      <td>5110</td>\n",
       "      <td>2</td>\n",
       "      <td>Urban</td>\n",
       "      <td>2596</td>\n",
       "    </tr>\n",
       "    <tr>\n",
       "      <th>smoking_status</th>\n",
       "      <td>5110</td>\n",
       "      <td>4</td>\n",
       "      <td>never smoked</td>\n",
       "      <td>1892</td>\n",
       "    </tr>\n",
       "  </tbody>\n",
       "</table>\n",
       "</div>"
      ],
      "text/plain": [
       "               count unique           top  freq\n",
       "gender          5110      3        Female  2994\n",
       "ever_married    5110      2           Yes  3353\n",
       "work_type       5110      5       Private  2925\n",
       "residence_type  5110      2         Urban  2596\n",
       "smoking_status  5110      4  never smoked  1892"
      ]
     },
     "execution_count": 23,
     "metadata": {},
     "output_type": "execute_result"
    }
   ],
   "source": [
    "df_raw.describe(include = 'object').T"
   ]
  },
  {
   "cell_type": "markdown",
   "id": "sunset-marina",
   "metadata": {
    "heading_collapsed": true
   },
   "source": [
    "#### Gender"
   ]
  },
  {
   "cell_type": "code",
   "execution_count": 24,
   "id": "unlike-europe",
   "metadata": {
    "ExecuteTime": {
     "end_time": "2021-03-28T06:40:02.464792Z",
     "start_time": "2021-03-28T06:40:02.370855Z"
    },
    "hidden": true
   },
   "outputs": [
    {
     "data": {
      "image/png": "[encoded data removed]",
      "text/plain": [
       "<Figure size 432x288 with 1 Axes>"
      ]
     },
     "metadata": {
      "needs_background": "light"
     },
     "output_type": "display_data"
    }
   ],
   "source": [
    "sns.countplot(y='gender', data=df_raw);"
   ]
  },
  {
   "cell_type": "code",
   "execution_count": 25,
   "id": "metallic-quarter",
   "metadata": {
    "ExecuteTime": {
     "end_time": "2021-03-28T06:40:02.480749Z",
     "start_time": "2021-03-28T06:40:02.466786Z"
    },
    "hidden": true
   },
   "outputs": [
    {
     "name": "stdout",
     "output_type": "stream",
     "text": [
      "Women dominate the dataset and 'Others' comprises 0.02% (1 sample) of the dataset\n"
     ]
    }
   ],
   "source": [
    "print('Women dominate the dataset and \\'Others\\' comprises {:.2f}% ({} sample) of the dataset'.format(df_raw[df_raw['gender']=='Other'].shape[0]/df_raw.shape[0]*100, df_raw[df_raw['gender']=='Other'].shape[0]))"
   ]
  },
  {
   "cell_type": "markdown",
   "id": "straight-oakland",
   "metadata": {
    "hidden": true
   },
   "source": [
    "Yeah, we can drop this sample or to infer based on others."
   ]
  },
  {
   "cell_type": "markdown",
   "id": "material-outdoors",
   "metadata": {
    "heading_collapsed": true
   },
   "source": [
    "#### Ever Married"
   ]
  },
  {
   "cell_type": "code",
   "execution_count": 26,
   "id": "korean-narrow",
   "metadata": {
    "ExecuteTime": {
     "end_time": "2021-03-28T06:40:02.573233Z",
     "start_time": "2021-03-28T06:40:02.482762Z"
    },
    "hidden": true
   },
   "outputs": [
    {
     "data": {
      "image/png": "[encoded data removed]",
      "text/plain": [
       "<Figure size 432x288 with 1 Axes>"
      ]
     },
     "metadata": {
      "needs_background": "light"
     },
     "output_type": "display_data"
    }
   ],
   "source": [
    "sns.countplot(y='ever_married', data=df_raw);"
   ]
  },
  {
   "cell_type": "code",
   "execution_count": 27,
   "id": "cubic-builder",
   "metadata": {
    "ExecuteTime": {
     "end_time": "2021-03-28T06:40:02.589190Z",
     "start_time": "2021-03-28T06:40:02.574230Z"
    },
    "hidden": true
   },
   "outputs": [
    {
     "name": "stdout",
     "output_type": "stream",
     "text": [
      "Most of the patients were/are married. It comprises 65.62% of the dataset\n"
     ]
    }
   ],
   "source": [
    "print('Most of the patients were/are married. It comprises {:.2f}% of the dataset'.format(df_raw[df_raw['ever_married']=='Yes'].shape[0]/df_raw.shape[0]*100))"
   ]
  },
  {
   "cell_type": "markdown",
   "id": "rising-employer",
   "metadata": {
    "heading_collapsed": true
   },
   "source": [
    "#### Work Type"
   ]
  },
  {
   "cell_type": "code",
   "execution_count": 28,
   "id": "manufactured-southwest",
   "metadata": {
    "ExecuteTime": {
     "end_time": "2021-03-28T06:40:02.698301Z",
     "start_time": "2021-03-28T06:40:02.590188Z"
    },
    "hidden": true
   },
   "outputs": [
    {
     "data": {
      "image/png": "[encoded data removed]",
      "text/plain": [
       "<Figure size 432x288 with 1 Axes>"
      ]
     },
     "metadata": {
      "needs_background": "light"
     },
     "output_type": "display_data"
    }
   ],
   "source": [
    "sns.countplot(y='work_type', data=df_raw);"
   ]
  },
  {
   "cell_type": "code",
   "execution_count": 29,
   "id": "composite-costa",
   "metadata": {
    "ExecuteTime": {
     "end_time": "2021-03-28T06:40:02.714262Z",
     "start_time": "2021-03-28T06:40:02.700299Z"
    },
    "hidden": true
   },
   "outputs": [
    {
     "name": "stdout",
     "output_type": "stream",
     "text": [
      "57.24% patients work for a private company.\n"
     ]
    }
   ],
   "source": [
    "print('{:.2f}% patients work for a private company.'.format(df_raw[df_raw['work_type']=='Private'].shape[0]/df_raw.shape[0]*100))"
   ]
  },
  {
   "cell_type": "markdown",
   "id": "chemical-maine",
   "metadata": {
    "ExecuteTime": {
     "end_time": "2021-03-27T22:47:55.584719Z",
     "start_time": "2021-03-27T22:47:55.574734Z"
    },
    "heading_collapsed": true
   },
   "source": [
    "#### Residence Type"
   ]
  },
  {
   "cell_type": "code",
   "execution_count": 30,
   "id": "blessed-vermont",
   "metadata": {
    "ExecuteTime": {
     "end_time": "2021-03-28T06:40:02.809074Z",
     "start_time": "2021-03-28T06:40:02.719248Z"
    },
    "hidden": true
   },
   "outputs": [
    {
     "data": {
      "image/png": "[encoded data removed]",
      "text/plain": [
       "<Figure size 432x288 with 1 Axes>"
      ]
     },
     "metadata": {
      "needs_background": "light"
     },
     "output_type": "display_data"
    }
   ],
   "source": [
    "sns.countplot(y='residence_type', data=df_raw);"
   ]
  },
  {
   "cell_type": "code",
   "execution_count": 31,
   "id": "legislative-impact",
   "metadata": {
    "ExecuteTime": {
     "end_time": "2021-03-28T06:40:02.824050Z",
     "start_time": "2021-03-28T06:40:02.812066Z"
    },
    "hidden": true
   },
   "outputs": [
    {
     "name": "stdout",
     "output_type": "stream",
     "text": [
      "50.80% patients lives in a Urban local.\n"
     ]
    }
   ],
   "source": [
    "print('{:.2f}% patients lives in a Urban local.'.format(df_raw[df_raw['residence_type']=='Urban'].shape[0]/df_raw.shape[0]*100))"
   ]
  },
  {
   "cell_type": "markdown",
   "id": "abandoned-christian",
   "metadata": {},
   "source": [
    "#### Smoking Status"
   ]
  },
  {
   "cell_type": "code",
   "execution_count": 32,
   "id": "transsexual-girlfriend",
   "metadata": {
    "ExecuteTime": {
     "end_time": "2021-03-28T06:40:02.935500Z",
     "start_time": "2021-03-28T06:40:02.826029Z"
    }
   },
   "outputs": [
    {
     "data": {
      "image/png": "[encoded data removed]",
      "text/plain": [
       "<Figure size 432x288 with 1 Axes>"
      ]
     },
     "metadata": {
      "needs_background": "light"
     },
     "output_type": "display_data"
    }
   ],
   "source": [
    "sns.countplot(y='smoking_status', data=df_raw);"
   ]
  },
  {
   "cell_type": "code",
   "execution_count": 33,
   "id": "killing-theme",
   "metadata": {
    "ExecuteTime": {
     "end_time": "2021-03-28T06:40:02.951458Z",
     "start_time": "2021-03-28T06:40:02.937495Z"
    }
   },
   "outputs": [
    {
     "name": "stdout",
     "output_type": "stream",
     "text": [
      "37.03% patients never smoked and 30.22% does not fullfilled this field.\n"
     ]
    }
   ],
   "source": [
    "print('{:.2f}% patients never smoked and {:.2f}% does not fullfilled this field.'.format(df_raw[df_raw['smoking_status']=='never smoked'].shape[0]/df_raw.shape[0]*100, df_raw[df_raw['smoking_status']=='Unknown'].shape[0]/df_raw.shape[0]*100))"
   ]
  },
  {
   "cell_type": "markdown",
   "id": "perfect-champion",
   "metadata": {
    "ExecuteTime": {
     "end_time": "2021-03-28T02:31:37.392741Z",
     "start_time": "2021-03-28T02:31:37.378091Z"
    },
    "heading_collapsed": true
   },
   "source": [
    "# 3.0 Hypothesis"
   ]
  },
  {
   "cell_type": "markdown",
   "id": "rotary-collectible",
   "metadata": {
    "ExecuteTime": {
     "end_time": "2021-03-28T02:31:42.191806Z",
     "start_time": "2021-03-28T02:31:42.176846Z"
    },
    "hidden": true
   },
   "source": [
    "(H1) The older, the more chances of suffer a stroke.\n",
    "\n",
    "(H2) If the patient has hypertension, he has more chance of suffer a stroke.\n",
    "\n",
    "(H3) If the patient has heart disease, he has more chance of suffer a stroke.\n",
    "\n",
    "(H4) If the patient was married, he has more chance of suffer a stroke.\n",
    "\n",
    "(H5) If the patient works for a private company, he has more chance of suffer a stroke.\n",
    "\n",
    "(H6) If the patient is a child, he has less chance of suffer a stroke.\n",
    "\n",
    "(H7) If the patient lives in urban place, he has more chance of suffer a stroke.\n",
    "\n",
    "(H8) The greater the average glucose, the greater are the chances of suffer a stroke.\n",
    "\n",
    "(H9) The greater the BMI glucose, the greater are the chances of suffer a stroke.\n",
    "\n",
    "(H10) If the patient smokes, he has more chance of suffer a stroke.\n",
    "\n",
    "(H11) If the patient is a potential diabetic he has more chance of suffer a stroke."
   ]
  },
  {
   "cell_type": "markdown",
   "id": "potential-community",
   "metadata": {},
   "source": [
    "# 4.0 Feature Engineering"
   ]
  },
  {
   "cell_type": "code",
   "execution_count": 34,
   "id": "failing-march",
   "metadata": {
    "ExecuteTime": {
     "end_time": "2021-03-28T06:40:02.967415Z",
     "start_time": "2021-03-28T06:40:02.953453Z"
    }
   },
   "outputs": [],
   "source": [
    "df_fe = df_raw.copy()"
   ]
  },
  {
   "cell_type": "markdown",
   "id": "educated-contamination",
   "metadata": {
    "heading_collapsed": true
   },
   "source": [
    "#### Gender"
   ]
  },
  {
   "cell_type": "code",
   "execution_count": 35,
   "id": "indian-mainland",
   "metadata": {
    "ExecuteTime": {
     "end_time": "2021-03-28T06:40:02.983373Z",
     "start_time": "2021-03-28T06:40:02.968412Z"
    },
    "hidden": true
   },
   "outputs": [],
   "source": [
    "df_fe['gender'] = df_fe['gender'].replace('Other', 'Female')"
   ]
  },
  {
   "cell_type": "markdown",
   "id": "placed-angle",
   "metadata": {
    "heading_collapsed": true
   },
   "source": [
    "#### Life Stages"
   ]
  },
  {
   "cell_type": "code",
   "execution_count": 36,
   "id": "loving-receiver",
   "metadata": {
    "ExecuteTime": {
     "end_time": "2021-03-28T06:40:02.999330Z",
     "start_time": "2021-03-28T06:40:02.984370Z"
    },
    "hidden": true
   },
   "outputs": [],
   "source": [
    "bins = [0, 1, 4, 12, 19, 39, 59, np.inf]\n",
    "names = ['infant', 'toddler', 'child', 'teen', 'adult', 'middle age adult', 'senior Adult']\n",
    "\n",
    "df_fe['life_stage'] = pd.cut(df_fe['age'], bins, labels=names)"
   ]
  },
  {
   "cell_type": "markdown",
   "id": "expensive-evening",
   "metadata": {
    "heading_collapsed": true
   },
   "source": [
    "#### Avg. Glucose Classification"
   ]
  },
  {
   "cell_type": "code",
   "execution_count": 37,
   "id": "dressed-delight",
   "metadata": {
    "ExecuteTime": {
     "end_time": "2021-03-28T06:40:03.015305Z",
     "start_time": "2021-03-28T06:40:03.000327Z"
    },
    "hidden": true
   },
   "outputs": [],
   "source": [
    "df_fe['potential_diabetic'] = df_fe['avg_glucose_level'].apply(lambda x: 'yes' if x > 170 else 'no')"
   ]
  },
  {
   "cell_type": "markdown",
   "id": "continental-spare",
   "metadata": {},
   "source": [
    "#### BMI"
   ]
  },
  {
   "cell_type": "markdown",
   "id": "numerous-economy",
   "metadata": {
    "ExecuteTime": {
     "end_time": "2021-03-28T03:00:19.919074Z",
     "start_time": "2021-03-28T03:00:19.901125Z"
    },
    "heading_collapsed": true
   },
   "source": [
    "##### Missing data"
   ]
  },
  {
   "cell_type": "code",
   "execution_count": 38,
   "id": "pleasant-casino",
   "metadata": {
    "ExecuteTime": {
     "end_time": "2021-03-28T06:40:03.031245Z",
     "start_time": "2021-03-28T06:40:03.017282Z"
    },
    "hidden": true
   },
   "outputs": [],
   "source": [
    "imputer = SimpleImputer(missing_values=np.NaN, strategy='mean')\n",
    "imputed_data = imputer.fit_transform(df_fe['bmi'].values.reshape(-1, 1)) # impute all the missing data\n",
    "df_fe['bmi'] = imputed_data"
   ]
  },
  {
   "cell_type": "code",
   "execution_count": 39,
   "id": "noticed-comedy",
   "metadata": {
    "ExecuteTime": {
     "end_time": "2021-03-28T06:40:03.562304Z",
     "start_time": "2021-03-28T06:40:03.032243Z"
    },
    "hidden": true
   },
   "outputs": [
    {
     "data": {
      "image/png": "[encoded data removed]",
      "text/plain": [
       "<Figure size 1152x288 with 2 Axes>"
      ]
     },
     "metadata": {
      "needs_background": "light"
     },
     "output_type": "display_data"
    }
   ],
   "source": [
    "fig, ax = plt.subplots(1,2,figsize=(16,4))\n",
    "\n",
    "sns.histplot(x='bmi', data=df_raw, kde=True, ax=ax[0]);\n",
    "ax[0].set_title('Before')\n",
    "ax[0].set_xticks(range(0,100,5));\n",
    "\n",
    "sns.histplot(x='bmi', data=df_fe, kde=True, ax=ax[1]);\n",
    "ax[1].set_title('After');\n",
    "ax[1].set_xticks(range(0,100,5));"
   ]
  },
  {
   "cell_type": "markdown",
   "id": "informal-watts",
   "metadata": {},
   "source": [
    "##### BMI Classification Mapping"
   ]
  },
  {
   "cell_type": "code",
   "execution_count": 40,
   "id": "framed-reconstruction",
   "metadata": {
    "ExecuteTime": {
     "end_time": "2021-03-28T06:40:03.577245Z",
     "start_time": "2021-03-28T06:40:03.564319Z"
    }
   },
   "outputs": [],
   "source": [
    "bins = [0, 18.49, 24.99, 29.99, 34.99, 39.99, np.inf]\n",
    "names = ['underweight', 'normal', 'overweight', 'obesity 1', 'obesity 2', 'obesity 3']\n",
    "\n",
    "df_fe['bmi_class'] = pd.cut(df_fe['bmi'], bins, labels=names)\n",
    "\n",
    "#Without obesity classification\n",
    "df_fe['bmi_class_2'] = df_fe['bmi_class'].apply(lambda x: 'obesity' if x not in ('underweight', 'normal') else x)"
   ]
  },
  {
   "cell_type": "markdown",
   "id": "broke-medline",
   "metadata": {},
   "source": [
    "#### Work Type Correction"
   ]
  },
  {
   "cell_type": "markdown",
   "id": "saving-sapphire",
   "metadata": {},
   "source": [
    "Data is mixed in the work type column. We have information of work and life stage in this column. Children = Never Worked"
   ]
  },
  {
   "cell_type": "code",
   "execution_count": 41,
   "id": "laughing-shooting",
   "metadata": {
    "ExecuteTime": {
     "end_time": "2021-03-28T06:40:03.593206Z",
     "start_time": "2021-03-28T06:40:03.579243Z"
    }
   },
   "outputs": [
    {
     "data": {
      "text/html": [
       "<div>\n",
       "<style scoped>\n",
       "    .dataframe tbody tr th:only-of-type {\n",
       "        vertical-align: middle;\n",
       "    }\n",
       "\n",
       "    .dataframe tbody tr th {\n",
       "        vertical-align: top;\n",
       "    }\n",
       "\n",
       "    .dataframe thead th {\n",
       "        text-align: right;\n",
       "    }\n",
       "</style>\n",
       "<table border=\"1\" class=\"dataframe\">\n",
       "  <thead>\n",
       "    <tr style=\"text-align: right;\">\n",
       "      <th></th>\n",
       "      <th>life_stage</th>\n",
       "      <th>age</th>\n",
       "    </tr>\n",
       "  </thead>\n",
       "  <tbody>\n",
       "    <tr>\n",
       "      <th>3357</th>\n",
       "      <td>teen</td>\n",
       "      <td>16.0</td>\n",
       "    </tr>\n",
       "    <tr>\n",
       "      <th>1455</th>\n",
       "      <td>teen</td>\n",
       "      <td>16.0</td>\n",
       "    </tr>\n",
       "    <tr>\n",
       "      <th>4604</th>\n",
       "      <td>teen</td>\n",
       "      <td>16.0</td>\n",
       "    </tr>\n",
       "    <tr>\n",
       "      <th>921</th>\n",
       "      <td>teen</td>\n",
       "      <td>16.0</td>\n",
       "    </tr>\n",
       "    <tr>\n",
       "      <th>3719</th>\n",
       "      <td>teen</td>\n",
       "      <td>16.0</td>\n",
       "    </tr>\n",
       "  </tbody>\n",
       "</table>\n",
       "</div>"
      ],
      "text/plain": [
       "     life_stage   age\n",
       "3357       teen  16.0\n",
       "1455       teen  16.0\n",
       "4604       teen  16.0\n",
       "921        teen  16.0\n",
       "3719       teen  16.0"
      ]
     },
     "execution_count": 41,
     "metadata": {},
     "output_type": "execute_result"
    }
   ],
   "source": [
    "df_fe[df_fe['work_type']=='children'][['life_stage', 'age']].sort_values(by='age', ascending=False)[:5]"
   ]
  },
  {
   "cell_type": "code",
   "execution_count": 42,
   "id": "classical-serbia",
   "metadata": {
    "ExecuteTime": {
     "end_time": "2021-03-28T06:40:03.609163Z",
     "start_time": "2021-03-28T06:40:03.594204Z"
    }
   },
   "outputs": [],
   "source": [
    "df_fe['work_type'] = df_fe['work_type'].replace('children', 'Never_worked')"
   ]
  },
  {
   "cell_type": "code",
   "execution_count": 43,
   "id": "elegant-validity",
   "metadata": {
    "ExecuteTime": {
     "end_time": "2021-03-28T06:40:03.625120Z",
     "start_time": "2021-03-28T06:40:03.610161Z"
    }
   },
   "outputs": [],
   "source": [
    "df_fe['worker'] = df_fe['work_type'].apply(lambda x: 'no' if x == 'Never_worked' else 'yes')"
   ]
  },
  {
   "cell_type": "markdown",
   "id": "compliant-logan",
   "metadata": {},
   "source": [
    "#### Smoking Child ?!"
   ]
  },
  {
   "cell_type": "markdown",
   "id": "discrete-transcript",
   "metadata": {},
   "source": [
    "How can we have a child of 10 years old that smokes regularly? For now, we can use the data as it is, but we should keep on eye on it."
   ]
  },
  {
   "cell_type": "code",
   "execution_count": 44,
   "id": "suspended-tackle",
   "metadata": {
    "ExecuteTime": {
     "end_time": "2021-03-28T06:40:03.641078Z",
     "start_time": "2021-03-28T06:40:03.626118Z"
    },
    "scrolled": true
   },
   "outputs": [
    {
     "data": {
      "text/html": [
       "<div>\n",
       "<style scoped>\n",
       "    .dataframe tbody tr th:only-of-type {\n",
       "        vertical-align: middle;\n",
       "    }\n",
       "\n",
       "    .dataframe tbody tr th {\n",
       "        vertical-align: top;\n",
       "    }\n",
       "\n",
       "    .dataframe thead th {\n",
       "        text-align: right;\n",
       "    }\n",
       "</style>\n",
       "<table border=\"1\" class=\"dataframe\">\n",
       "  <thead>\n",
       "    <tr style=\"text-align: right;\">\n",
       "      <th></th>\n",
       "      <th>age</th>\n",
       "      <th>smoking_status</th>\n",
       "    </tr>\n",
       "  </thead>\n",
       "  <tbody>\n",
       "    <tr>\n",
       "      <th>4535</th>\n",
       "      <td>10.0</td>\n",
       "      <td>formerly smoked</td>\n",
       "    </tr>\n",
       "    <tr>\n",
       "      <th>4079</th>\n",
       "      <td>10.0</td>\n",
       "      <td>formerly smoked</td>\n",
       "    </tr>\n",
       "    <tr>\n",
       "      <th>3044</th>\n",
       "      <td>10.0</td>\n",
       "      <td>formerly smoked</td>\n",
       "    </tr>\n",
       "    <tr>\n",
       "      <th>2013</th>\n",
       "      <td>10.0</td>\n",
       "      <td>smokes</td>\n",
       "    </tr>\n",
       "    <tr>\n",
       "      <th>1866</th>\n",
       "      <td>10.0</td>\n",
       "      <td>formerly smoked</td>\n",
       "    </tr>\n",
       "  </tbody>\n",
       "</table>\n",
       "</div>"
      ],
      "text/plain": [
       "       age   smoking_status\n",
       "4535  10.0  formerly smoked\n",
       "4079  10.0  formerly smoked\n",
       "3044  10.0  formerly smoked\n",
       "2013  10.0           smokes\n",
       "1866  10.0  formerly smoked"
      ]
     },
     "execution_count": 44,
     "metadata": {},
     "output_type": "execute_result"
    }
   ],
   "source": [
    "df_fe[(df_fe['age'] < 16)&(~df_fe['smoking_status'].isin(['Unknown', 'never smoked']))][['age','smoking_status']].sort_values(by='age').head()"
   ]
  },
  {
   "cell_type": "markdown",
   "id": "engaged-county",
   "metadata": {},
   "source": [
    "Yeah, we changed the occurences of a particular number (aprox. 28.8), but we can improve this method later."
   ]
  },
  {
   "cell_type": "markdown",
   "id": "basic-locking",
   "metadata": {},
   "source": [
    "# 5.0 Exploratory Data Analysis"
   ]
  },
  {
   "cell_type": "code",
   "execution_count": 45,
   "id": "dressed-limitation",
   "metadata": {
    "ExecuteTime": {
     "end_time": "2021-03-28T06:40:03.657036Z",
     "start_time": "2021-03-28T06:40:03.642075Z"
    }
   },
   "outputs": [],
   "source": [
    "df_eda = df_fe.copy()"
   ]
  },
  {
   "cell_type": "markdown",
   "id": "sound-brush",
   "metadata": {},
   "source": [
    "### 5.1 Numerical Features"
   ]
  },
  {
   "cell_type": "code",
   "execution_count": 46,
   "id": "documented-feedback",
   "metadata": {
    "ExecuteTime": {
     "end_time": "2021-03-28T06:40:03.672993Z",
     "start_time": "2021-03-28T06:40:03.658033Z"
    }
   },
   "outputs": [],
   "source": [
    "df_eda_num = df_eda.select_dtypes(include=['int64', 'float64'])"
   ]
  },
  {
   "cell_type": "code",
   "execution_count": 47,
   "id": "pleased-effect",
   "metadata": {
    "ExecuteTime": {
     "end_time": "2021-03-28T06:40:04.971108Z",
     "start_time": "2021-03-28T06:40:03.673989Z"
    }
   },
   "outputs": [
    {
     "data": {
      "image/png": "[encoded data removed]",
      "text/plain": [
       "<Figure size 864x576 with 6 Axes>"
      ]
     },
     "metadata": {
      "needs_background": "light"
     },
     "output_type": "display_data"
    }
   ],
   "source": [
    "fig, axes = plt.subplots(3, 2, figsize=(12, 8))\n",
    "\n",
    "ax = axes.ravel()\n",
    "\n",
    "for (i, col) in zip(range(len(df_eda_num.columns)), df_eda_num.columns):\n",
    "    sns.histplot(x=col, hue='stroke', data=df_eda_num, ax=ax[i])\n",
    "    ax[i].set_ylabel(\"Frequency\")\n",
    "\n",
    "fig.tight_layout()"
   ]
  },
  {
   "cell_type": "markdown",
   "id": "going-pitch",
   "metadata": {},
   "source": [
    "No numerical feature seems to be a good discriminator itself. Some of them follow a trend, like age and bmi which we can fit to a normal distribution and avg_glucose_level can be approximated to a bimodal distribution."
   ]
  },
  {
   "cell_type": "markdown",
   "id": "external-expansion",
   "metadata": {},
   "source": [
    "### 5.2 Categorical Features"
   ]
  },
  {
   "cell_type": "code",
   "execution_count": 48,
   "id": "sorted-acceptance",
   "metadata": {
    "ExecuteTime": {
     "end_time": "2021-03-28T06:40:04.986068Z",
     "start_time": "2021-03-28T06:40:04.972105Z"
    }
   },
   "outputs": [],
   "source": [
    "df_eda_cat = df_eda.select_dtypes(exclude=['int64', 'float64'])"
   ]
  },
  {
   "cell_type": "code",
   "execution_count": 49,
   "id": "quarterly-participation",
   "metadata": {
    "ExecuteTime": {
     "end_time": "2021-03-28T06:40:05.017983Z",
     "start_time": "2021-03-28T06:40:04.988063Z"
    }
   },
   "outputs": [
    {
     "data": {
      "text/html": [
       "<div>\n",
       "<style scoped>\n",
       "    .dataframe tbody tr th:only-of-type {\n",
       "        vertical-align: middle;\n",
       "    }\n",
       "\n",
       "    .dataframe tbody tr th {\n",
       "        vertical-align: top;\n",
       "    }\n",
       "\n",
       "    .dataframe thead th {\n",
       "        text-align: right;\n",
       "    }\n",
       "</style>\n",
       "<table border=\"1\" class=\"dataframe\">\n",
       "  <thead>\n",
       "    <tr style=\"text-align: right;\">\n",
       "      <th></th>\n",
       "      <th>gender</th>\n",
       "      <th>ever_married</th>\n",
       "      <th>work_type</th>\n",
       "      <th>residence_type</th>\n",
       "      <th>smoking_status</th>\n",
       "      <th>life_stage</th>\n",
       "      <th>potential_diabetic</th>\n",
       "      <th>bmi_class</th>\n",
       "      <th>bmi_class_2</th>\n",
       "      <th>worker</th>\n",
       "    </tr>\n",
       "  </thead>\n",
       "  <tbody>\n",
       "    <tr>\n",
       "      <th>0</th>\n",
       "      <td>Male</td>\n",
       "      <td>Yes</td>\n",
       "      <td>Private</td>\n",
       "      <td>Urban</td>\n",
       "      <td>formerly smoked</td>\n",
       "      <td>senior Adult</td>\n",
       "      <td>yes</td>\n",
       "      <td>obesity 2</td>\n",
       "      <td>obesity</td>\n",
       "      <td>yes</td>\n",
       "    </tr>\n",
       "    <tr>\n",
       "      <th>1</th>\n",
       "      <td>Female</td>\n",
       "      <td>Yes</td>\n",
       "      <td>Self-employed</td>\n",
       "      <td>Rural</td>\n",
       "      <td>never smoked</td>\n",
       "      <td>senior Adult</td>\n",
       "      <td>yes</td>\n",
       "      <td>overweight</td>\n",
       "      <td>obesity</td>\n",
       "      <td>yes</td>\n",
       "    </tr>\n",
       "    <tr>\n",
       "      <th>2</th>\n",
       "      <td>Male</td>\n",
       "      <td>Yes</td>\n",
       "      <td>Private</td>\n",
       "      <td>Rural</td>\n",
       "      <td>never smoked</td>\n",
       "      <td>senior Adult</td>\n",
       "      <td>no</td>\n",
       "      <td>obesity 1</td>\n",
       "      <td>obesity</td>\n",
       "      <td>yes</td>\n",
       "    </tr>\n",
       "    <tr>\n",
       "      <th>3</th>\n",
       "      <td>Female</td>\n",
       "      <td>Yes</td>\n",
       "      <td>Private</td>\n",
       "      <td>Urban</td>\n",
       "      <td>smokes</td>\n",
       "      <td>middle age adult</td>\n",
       "      <td>yes</td>\n",
       "      <td>obesity 1</td>\n",
       "      <td>obesity</td>\n",
       "      <td>yes</td>\n",
       "    </tr>\n",
       "    <tr>\n",
       "      <th>4</th>\n",
       "      <td>Female</td>\n",
       "      <td>Yes</td>\n",
       "      <td>Self-employed</td>\n",
       "      <td>Rural</td>\n",
       "      <td>never smoked</td>\n",
       "      <td>senior Adult</td>\n",
       "      <td>yes</td>\n",
       "      <td>normal</td>\n",
       "      <td>normal</td>\n",
       "      <td>yes</td>\n",
       "    </tr>\n",
       "    <tr>\n",
       "      <th>...</th>\n",
       "      <td>...</td>\n",
       "      <td>...</td>\n",
       "      <td>...</td>\n",
       "      <td>...</td>\n",
       "      <td>...</td>\n",
       "      <td>...</td>\n",
       "      <td>...</td>\n",
       "      <td>...</td>\n",
       "      <td>...</td>\n",
       "      <td>...</td>\n",
       "    </tr>\n",
       "    <tr>\n",
       "      <th>5105</th>\n",
       "      <td>Female</td>\n",
       "      <td>Yes</td>\n",
       "      <td>Private</td>\n",
       "      <td>Urban</td>\n",
       "      <td>never smoked</td>\n",
       "      <td>senior Adult</td>\n",
       "      <td>no</td>\n",
       "      <td>overweight</td>\n",
       "      <td>obesity</td>\n",
       "      <td>yes</td>\n",
       "    </tr>\n",
       "    <tr>\n",
       "      <th>5106</th>\n",
       "      <td>Female</td>\n",
       "      <td>Yes</td>\n",
       "      <td>Self-employed</td>\n",
       "      <td>Urban</td>\n",
       "      <td>never smoked</td>\n",
       "      <td>senior Adult</td>\n",
       "      <td>no</td>\n",
       "      <td>obesity 3</td>\n",
       "      <td>obesity</td>\n",
       "      <td>yes</td>\n",
       "    </tr>\n",
       "    <tr>\n",
       "      <th>5107</th>\n",
       "      <td>Female</td>\n",
       "      <td>Yes</td>\n",
       "      <td>Self-employed</td>\n",
       "      <td>Rural</td>\n",
       "      <td>never smoked</td>\n",
       "      <td>adult</td>\n",
       "      <td>no</td>\n",
       "      <td>obesity 1</td>\n",
       "      <td>obesity</td>\n",
       "      <td>yes</td>\n",
       "    </tr>\n",
       "    <tr>\n",
       "      <th>5108</th>\n",
       "      <td>Male</td>\n",
       "      <td>Yes</td>\n",
       "      <td>Private</td>\n",
       "      <td>Rural</td>\n",
       "      <td>formerly smoked</td>\n",
       "      <td>middle age adult</td>\n",
       "      <td>no</td>\n",
       "      <td>overweight</td>\n",
       "      <td>obesity</td>\n",
       "      <td>yes</td>\n",
       "    </tr>\n",
       "    <tr>\n",
       "      <th>5109</th>\n",
       "      <td>Female</td>\n",
       "      <td>Yes</td>\n",
       "      <td>Govt_job</td>\n",
       "      <td>Urban</td>\n",
       "      <td>Unknown</td>\n",
       "      <td>middle age adult</td>\n",
       "      <td>no</td>\n",
       "      <td>overweight</td>\n",
       "      <td>obesity</td>\n",
       "      <td>yes</td>\n",
       "    </tr>\n",
       "  </tbody>\n",
       "</table>\n",
       "<p>5110 rows × 10 columns</p>\n",
       "</div>"
      ],
      "text/plain": [
       "      gender ever_married      work_type residence_type   smoking_status  \\\n",
       "0       Male          Yes        Private          Urban  formerly smoked   \n",
       "1     Female          Yes  Self-employed          Rural     never smoked   \n",
       "2       Male          Yes        Private          Rural     never smoked   \n",
       "3     Female          Yes        Private          Urban           smokes   \n",
       "4     Female          Yes  Self-employed          Rural     never smoked   \n",
       "...      ...          ...            ...            ...              ...   \n",
       "5105  Female          Yes        Private          Urban     never smoked   \n",
       "5106  Female          Yes  Self-employed          Urban     never smoked   \n",
       "5107  Female          Yes  Self-employed          Rural     never smoked   \n",
       "5108    Male          Yes        Private          Rural  formerly smoked   \n",
       "5109  Female          Yes       Govt_job          Urban          Unknown   \n",
       "\n",
       "            life_stage potential_diabetic   bmi_class bmi_class_2 worker  \n",
       "0         senior Adult                yes   obesity 2     obesity    yes  \n",
       "1         senior Adult                yes  overweight     obesity    yes  \n",
       "2         senior Adult                 no   obesity 1     obesity    yes  \n",
       "3     middle age adult                yes   obesity 1     obesity    yes  \n",
       "4         senior Adult                yes      normal      normal    yes  \n",
       "...                ...                ...         ...         ...    ...  \n",
       "5105      senior Adult                 no  overweight     obesity    yes  \n",
       "5106      senior Adult                 no   obesity 3     obesity    yes  \n",
       "5107             adult                 no   obesity 1     obesity    yes  \n",
       "5108  middle age adult                 no  overweight     obesity    yes  \n",
       "5109  middle age adult                 no  overweight     obesity    yes  \n",
       "\n",
       "[5110 rows x 10 columns]"
      ]
     },
     "execution_count": 49,
     "metadata": {},
     "output_type": "execute_result"
    }
   ],
   "source": [
    "df_eda_cat"
   ]
  },
  {
   "cell_type": "code",
   "execution_count": 50,
   "id": "intended-superior",
   "metadata": {
    "ExecuteTime": {
     "end_time": "2021-03-28T06:40:06.300254Z",
     "start_time": "2021-03-28T06:40:05.018980Z"
    }
   },
   "outputs": [
    {
     "data": {
      "image/png": "[encoded data removed]",
      "text/plain": [
       "<Figure size 1008x864 with 10 Axes>"
      ]
     },
     "metadata": {
      "needs_background": "light"
     },
     "output_type": "display_data"
    }
   ],
   "source": [
    "fig, axes = plt.subplots(5, 2, figsize=(14, 12))\n",
    "\n",
    "ax = axes.ravel()\n",
    "\n",
    "for (i, col) in zip(range(len(df_eda_cat.columns)), df_eda_cat.columns):\n",
    "    sns.countplot(x=col, hue='stroke', data=df_eda, ax=ax[i])\n",
    "    ax[i].set_ylabel(\"Frequency\")\n",
    "    ax[i].set_xticklabels(labels=df_eda_cat[col].unique(), rotation=10)\n",
    "\n",
    "fig.tight_layout()"
   ]
  },
  {
   "cell_type": "markdown",
   "id": "pretty-privacy",
   "metadata": {},
   "source": [
    "People who work, older people, and overweight people are more likely to have a stroke."
   ]
  },
  {
   "cell_type": "markdown",
   "id": "extraordinary-wildlife",
   "metadata": {},
   "source": [
    "### 5.3 Hyphotesis Validation"
   ]
  },
  {
   "cell_type": "markdown",
   "id": "needed-founder",
   "metadata": {
    "heading_collapsed": true
   },
   "source": [
    "#### (H1) The older, the more chances of suffer a stroke. [True]"
   ]
  },
  {
   "cell_type": "markdown",
   "id": "electronic-determination",
   "metadata": {
    "hidden": true
   },
   "source": [
    "Yep, older people are more likely to have a stroke."
   ]
  },
  {
   "cell_type": "code",
   "execution_count": 51,
   "id": "charged-dinner",
   "metadata": {
    "ExecuteTime": {
     "end_time": "2021-03-28T06:40:06.598348Z",
     "start_time": "2021-03-28T06:40:06.302247Z"
    },
    "hidden": true
   },
   "outputs": [
    {
     "name": "stdout",
     "output_type": "stream",
     "text": [
      "Point Biseral corr 0.2453 p-value 0.0000:\n"
     ]
    },
    {
     "data": {
      "image/png": "[encoded data removed]",
      "text/plain": [
       "<Figure size 1008x288 with 2 Axes>"
      ]
     },
     "metadata": {
      "needs_background": "light"
     },
     "output_type": "display_data"
    }
   ],
   "source": [
    "fig, axes = plt.subplots(1, 2, figsize=(14, 4))\n",
    "ax = axes.ravel()\n",
    "\n",
    "sns.boxplot(y='age', x='stroke', data=df_eda, ax=ax[0]);\n",
    "sns.histplot(x='age', hue='stroke', data=df_eda, ax=ax[1]);\n",
    "\n",
    "print('Point Biseral corr {:.4f} p-value {:.4f}:'.format(*list(pointbiserialr(df_eda['age'], df_eda['stroke']))))"
   ]
  },
  {
   "cell_type": "markdown",
   "id": "through-cream",
   "metadata": {
    "ExecuteTime": {
     "end_time": "2021-03-28T03:35:58.544005Z",
     "start_time": "2021-03-28T03:35:58.533568Z"
    },
    "heading_collapsed": true
   },
   "source": [
    "#### (H2) If the patient has hypertension, he has more chance of suffer a stroke. [True]"
   ]
  },
  {
   "cell_type": "code",
   "execution_count": 52,
   "id": "growing-sapphire",
   "metadata": {
    "ExecuteTime": {
     "end_time": "2021-03-28T06:40:06.613730Z",
     "start_time": "2021-03-28T06:40:06.599345Z"
    },
    "hidden": true
   },
   "outputs": [],
   "source": [
    "from sklearn.metrics import jaccard_score\n",
    "from sklearn.metrics import matthews_corrcoef"
   ]
  },
  {
   "cell_type": "code",
   "execution_count": 53,
   "id": "beautiful-completion",
   "metadata": {
    "ExecuteTime": {
     "end_time": "2021-03-28T06:40:06.644647Z",
     "start_time": "2021-03-28T06:40:06.614727Z"
    },
    "hidden": true
   },
   "outputs": [
    {
     "name": "stdout",
     "output_type": "stream",
     "text": [
      "Phi coefficient: 0.1279\n"
     ]
    },
    {
     "data": {
      "text/html": [
       "<div>\n",
       "<style scoped>\n",
       "    .dataframe tbody tr th:only-of-type {\n",
       "        vertical-align: middle;\n",
       "    }\n",
       "\n",
       "    .dataframe tbody tr th {\n",
       "        vertical-align: top;\n",
       "    }\n",
       "\n",
       "    .dataframe thead th {\n",
       "        text-align: right;\n",
       "    }\n",
       "</style>\n",
       "<table border=\"1\" class=\"dataframe\">\n",
       "  <thead>\n",
       "    <tr style=\"text-align: right;\">\n",
       "      <th></th>\n",
       "      <th>hypertension</th>\n",
       "      <th>stroke</th>\n",
       "      <th>%</th>\n",
       "    </tr>\n",
       "  </thead>\n",
       "  <tbody>\n",
       "    <tr>\n",
       "      <th>0</th>\n",
       "      <td>0</td>\n",
       "      <td>0</td>\n",
       "      <td>96.032090</td>\n",
       "    </tr>\n",
       "    <tr>\n",
       "      <th>1</th>\n",
       "      <td>0</td>\n",
       "      <td>1</td>\n",
       "      <td>3.967910</td>\n",
       "    </tr>\n",
       "    <tr>\n",
       "      <th>2</th>\n",
       "      <td>1</td>\n",
       "      <td>0</td>\n",
       "      <td>86.746988</td>\n",
       "    </tr>\n",
       "    <tr>\n",
       "      <th>3</th>\n",
       "      <td>1</td>\n",
       "      <td>1</td>\n",
       "      <td>13.253012</td>\n",
       "    </tr>\n",
       "  </tbody>\n",
       "</table>\n",
       "</div>"
      ],
      "text/plain": [
       "   hypertension  stroke          %\n",
       "0             0       0  96.032090\n",
       "1             0       1   3.967910\n",
       "2             1       0  86.746988\n",
       "3             1       1  13.253012"
      ]
     },
     "execution_count": 53,
     "metadata": {},
     "output_type": "execute_result"
    }
   ],
   "source": [
    "print('Phi coefficient: {:.4f}'.format(matthews_corrcoef(df_eda['hypertension'], df_eda['stroke'])))\n",
    "df_eda[['hypertension', 'stroke']].groupby(['hypertension'])['stroke'].value_counts(normalize=True).rename('%').mul(100).reset_index()"
   ]
  },
  {
   "cell_type": "markdown",
   "id": "trying-exhibit",
   "metadata": {
    "ExecuteTime": {
     "end_time": "2021-03-28T03:48:53.124019Z",
     "start_time": "2021-03-28T03:48:53.112061Z"
    },
    "hidden": true
   },
   "source": [
    "When the patient has no hypertension, the chance of having stroke is about 4%, meanwhile when he has the chance grows up to about 13%. Therefore, H2 is true."
   ]
  },
  {
   "cell_type": "markdown",
   "id": "ongoing-typing",
   "metadata": {
    "heading_collapsed": true
   },
   "source": [
    "#### (H3) If the patient has heart disease, he has more chance of suffer a stroke. [True]"
   ]
  },
  {
   "cell_type": "code",
   "execution_count": 54,
   "id": "animal-bryan",
   "metadata": {
    "ExecuteTime": {
     "end_time": "2021-03-28T06:40:06.675564Z",
     "start_time": "2021-03-28T06:40:06.645645Z"
    },
    "hidden": true
   },
   "outputs": [
    {
     "name": "stdout",
     "output_type": "stream",
     "text": [
      "Phi coefficient: 0.1349\n"
     ]
    },
    {
     "data": {
      "text/html": [
       "<div>\n",
       "<style scoped>\n",
       "    .dataframe tbody tr th:only-of-type {\n",
       "        vertical-align: middle;\n",
       "    }\n",
       "\n",
       "    .dataframe tbody tr th {\n",
       "        vertical-align: top;\n",
       "    }\n",
       "\n",
       "    .dataframe thead th {\n",
       "        text-align: right;\n",
       "    }\n",
       "</style>\n",
       "<table border=\"1\" class=\"dataframe\">\n",
       "  <thead>\n",
       "    <tr style=\"text-align: right;\">\n",
       "      <th></th>\n",
       "      <th>heart_disease</th>\n",
       "      <th>stroke</th>\n",
       "      <th>%</th>\n",
       "    </tr>\n",
       "  </thead>\n",
       "  <tbody>\n",
       "    <tr>\n",
       "      <th>0</th>\n",
       "      <td>0</td>\n",
       "      <td>0</td>\n",
       "      <td>95.821266</td>\n",
       "    </tr>\n",
       "    <tr>\n",
       "      <th>1</th>\n",
       "      <td>0</td>\n",
       "      <td>1</td>\n",
       "      <td>4.178734</td>\n",
       "    </tr>\n",
       "    <tr>\n",
       "      <th>2</th>\n",
       "      <td>1</td>\n",
       "      <td>0</td>\n",
       "      <td>82.971014</td>\n",
       "    </tr>\n",
       "    <tr>\n",
       "      <th>3</th>\n",
       "      <td>1</td>\n",
       "      <td>1</td>\n",
       "      <td>17.028986</td>\n",
       "    </tr>\n",
       "  </tbody>\n",
       "</table>\n",
       "</div>"
      ],
      "text/plain": [
       "   heart_disease  stroke          %\n",
       "0              0       0  95.821266\n",
       "1              0       1   4.178734\n",
       "2              1       0  82.971014\n",
       "3              1       1  17.028986"
      ]
     },
     "execution_count": 54,
     "metadata": {},
     "output_type": "execute_result"
    }
   ],
   "source": [
    "print('Phi coefficient: {:.4f}'.format(matthews_corrcoef(df_eda['heart_disease'], df_eda['stroke'])))\n",
    "df_eda[['heart_disease', 'stroke']].groupby(['heart_disease'])['stroke'].value_counts(normalize=True).rename('%').mul(100).reset_index()"
   ]
  },
  {
   "cell_type": "markdown",
   "id": "false-egypt",
   "metadata": {
    "hidden": true
   },
   "source": [
    "When the patient has no heart disease, the chance of having stroke is about 4%, meanwhile when he has heart disease the chance grows up to about 17%. Therefore, H3 is true."
   ]
  },
  {
   "cell_type": "markdown",
   "id": "alike-writing",
   "metadata": {
    "heading_collapsed": true
   },
   "source": [
    "#### (H4) If the patient was married, he has more chance of suffer a stroke."
   ]
  },
  {
   "cell_type": "code",
   "execution_count": 55,
   "id": "homeless-young",
   "metadata": {
    "ExecuteTime": {
     "end_time": "2021-03-28T06:40:06.706482Z",
     "start_time": "2021-03-28T06:40:06.676562Z"
    },
    "hidden": true
   },
   "outputs": [
    {
     "name": "stdout",
     "output_type": "stream",
     "text": [
      "Phi coefficient: 0.1083\n"
     ]
    },
    {
     "data": {
      "text/html": [
       "<div>\n",
       "<style scoped>\n",
       "    .dataframe tbody tr th:only-of-type {\n",
       "        vertical-align: middle;\n",
       "    }\n",
       "\n",
       "    .dataframe tbody tr th {\n",
       "        vertical-align: top;\n",
       "    }\n",
       "\n",
       "    .dataframe thead th {\n",
       "        text-align: right;\n",
       "    }\n",
       "</style>\n",
       "<table border=\"1\" class=\"dataframe\">\n",
       "  <thead>\n",
       "    <tr style=\"text-align: right;\">\n",
       "      <th></th>\n",
       "      <th>ever_married</th>\n",
       "      <th>stroke</th>\n",
       "      <th>%</th>\n",
       "    </tr>\n",
       "  </thead>\n",
       "  <tbody>\n",
       "    <tr>\n",
       "      <th>0</th>\n",
       "      <td>No</td>\n",
       "      <td>0</td>\n",
       "      <td>98.349459</td>\n",
       "    </tr>\n",
       "    <tr>\n",
       "      <th>1</th>\n",
       "      <td>No</td>\n",
       "      <td>1</td>\n",
       "      <td>1.650541</td>\n",
       "    </tr>\n",
       "    <tr>\n",
       "      <th>2</th>\n",
       "      <td>Yes</td>\n",
       "      <td>0</td>\n",
       "      <td>93.438712</td>\n",
       "    </tr>\n",
       "    <tr>\n",
       "      <th>3</th>\n",
       "      <td>Yes</td>\n",
       "      <td>1</td>\n",
       "      <td>6.561288</td>\n",
       "    </tr>\n",
       "  </tbody>\n",
       "</table>\n",
       "</div>"
      ],
      "text/plain": [
       "  ever_married  stroke          %\n",
       "0           No       0  98.349459\n",
       "1           No       1   1.650541\n",
       "2          Yes       0  93.438712\n",
       "3          Yes       1   6.561288"
      ]
     },
     "execution_count": 55,
     "metadata": {},
     "output_type": "execute_result"
    }
   ],
   "source": [
    "print('Phi coefficient: {:.4f}'.format(matthews_corrcoef(df_eda['ever_married'].replace('No', 0).replace('Yes', 1), df_eda['stroke'])))\n",
    "df_eda[['ever_married', 'stroke']].groupby(['ever_married'])['stroke'].value_counts(normalize=True).rename('%').mul(100).reset_index()"
   ]
  },
  {
   "cell_type": "markdown",
   "id": "pursuant-verification",
   "metadata": {
    "hidden": true
   },
   "source": [
    "When the patient didn't married, the chance of having stroke is about 1.6%, meanwhile when he had married the chance grows up to about 6.5%. Therefore, H4 is true."
   ]
  },
  {
   "cell_type": "markdown",
   "id": "acute-project",
   "metadata": {
    "heading_collapsed": true
   },
   "source": [
    "#### (H5) If the patient works for a private company, he has more chance of suffer a stroke. [False]"
   ]
  },
  {
   "cell_type": "code",
   "execution_count": 56,
   "id": "vocational-adapter",
   "metadata": {
    "ExecuteTime": {
     "end_time": "2021-03-28T06:40:06.721442Z",
     "start_time": "2021-03-28T06:40:06.708477Z"
    },
    "hidden": true
   },
   "outputs": [
    {
     "data": {
      "text/html": [
       "<div>\n",
       "<style scoped>\n",
       "    .dataframe tbody tr th:only-of-type {\n",
       "        vertical-align: middle;\n",
       "    }\n",
       "\n",
       "    .dataframe tbody tr th {\n",
       "        vertical-align: top;\n",
       "    }\n",
       "\n",
       "    .dataframe thead th {\n",
       "        text-align: right;\n",
       "    }\n",
       "</style>\n",
       "<table border=\"1\" class=\"dataframe\">\n",
       "  <thead>\n",
       "    <tr style=\"text-align: right;\">\n",
       "      <th></th>\n",
       "      <th>work_type</th>\n",
       "      <th>stroke</th>\n",
       "      <th>%</th>\n",
       "    </tr>\n",
       "  </thead>\n",
       "  <tbody>\n",
       "    <tr>\n",
       "      <th>0</th>\n",
       "      <td>Govt_job</td>\n",
       "      <td>0</td>\n",
       "      <td>94.977169</td>\n",
       "    </tr>\n",
       "    <tr>\n",
       "      <th>1</th>\n",
       "      <td>Govt_job</td>\n",
       "      <td>1</td>\n",
       "      <td>5.022831</td>\n",
       "    </tr>\n",
       "    <tr>\n",
       "      <th>2</th>\n",
       "      <td>Never_worked</td>\n",
       "      <td>0</td>\n",
       "      <td>99.717913</td>\n",
       "    </tr>\n",
       "    <tr>\n",
       "      <th>3</th>\n",
       "      <td>Never_worked</td>\n",
       "      <td>1</td>\n",
       "      <td>0.282087</td>\n",
       "    </tr>\n",
       "    <tr>\n",
       "      <th>4</th>\n",
       "      <td>Private</td>\n",
       "      <td>0</td>\n",
       "      <td>94.905983</td>\n",
       "    </tr>\n",
       "    <tr>\n",
       "      <th>5</th>\n",
       "      <td>Private</td>\n",
       "      <td>1</td>\n",
       "      <td>5.094017</td>\n",
       "    </tr>\n",
       "    <tr>\n",
       "      <th>6</th>\n",
       "      <td>Self-employed</td>\n",
       "      <td>0</td>\n",
       "      <td>92.063492</td>\n",
       "    </tr>\n",
       "    <tr>\n",
       "      <th>7</th>\n",
       "      <td>Self-employed</td>\n",
       "      <td>1</td>\n",
       "      <td>7.936508</td>\n",
       "    </tr>\n",
       "  </tbody>\n",
       "</table>\n",
       "</div>"
      ],
      "text/plain": [
       "       work_type  stroke          %\n",
       "0       Govt_job       0  94.977169\n",
       "1       Govt_job       1   5.022831\n",
       "2   Never_worked       0  99.717913\n",
       "3   Never_worked       1   0.282087\n",
       "4        Private       0  94.905983\n",
       "5        Private       1   5.094017\n",
       "6  Self-employed       0  92.063492\n",
       "7  Self-employed       1   7.936508"
      ]
     },
     "execution_count": 56,
     "metadata": {},
     "output_type": "execute_result"
    }
   ],
   "source": [
    "df_eda.groupby('work_type')['stroke'].value_counts(normalize=True).mul(100).rename('%').reset_index()"
   ]
  },
  {
   "cell_type": "code",
   "execution_count": 57,
   "id": "roman-estonia",
   "metadata": {
    "ExecuteTime": {
     "end_time": "2021-03-28T06:40:06.927970Z",
     "start_time": "2021-03-28T06:40:06.722439Z"
    },
    "hidden": true
   },
   "outputs": [
    {
     "name": "stdout",
     "output_type": "stream",
     "text": [
      "Crammer V coeff 0.0096\n"
     ]
    },
    {
     "data": {
      "image/png": "[encoded data removed]",
      "text/plain": [
       "<Figure size 432x288 with 1 Axes>"
      ]
     },
     "metadata": {
      "needs_background": "light"
     },
     "output_type": "display_data"
    }
   ],
   "source": [
    "print('Crammer V coeff {:.4f}'.format(cramers_V(df_eda['work_type'], df_eda['stroke'])))\n",
    "data_aux = (df_eda.groupby('work_type'))['stroke'].value_counts(normalize=True).rename('percentage').mul(100).reset_index().sort_values('stroke')\n",
    "sns.barplot(x=\"work_type\", y=\"percentage\", hue=\"stroke\", data=data_aux);"
   ]
  },
  {
   "cell_type": "markdown",
   "id": "supreme-measure",
   "metadata": {
    "hidden": true
   },
   "source": [
    "It's false because self-employed is more likely to have a stroke."
   ]
  },
  {
   "cell_type": "markdown",
   "id": "homeless-contrast",
   "metadata": {
    "heading_collapsed": true
   },
   "source": [
    "#### (H5.1) Workers are more likely o have a stroke. [True]"
   ]
  },
  {
   "cell_type": "code",
   "execution_count": 58,
   "id": "wrong-intention",
   "metadata": {
    "ExecuteTime": {
     "end_time": "2021-03-28T06:40:06.943927Z",
     "start_time": "2021-03-28T06:40:06.929965Z"
    },
    "hidden": true
   },
   "outputs": [],
   "source": [
    "df_eda['worker'] = df_eda['work_type'].apply(lambda x: 'no' if x == 'Never_worked' else 'yes')"
   ]
  },
  {
   "cell_type": "code",
   "execution_count": 59,
   "id": "exterior-cruise",
   "metadata": {
    "ExecuteTime": {
     "end_time": "2021-03-28T06:40:07.086547Z",
     "start_time": "2021-03-28T06:40:06.945922Z"
    },
    "hidden": true
   },
   "outputs": [
    {
     "name": "stdout",
     "output_type": "stream",
     "text": [
      "Phi coefficient: 0.0856\n"
     ]
    },
    {
     "data": {
      "image/png": "[encoded data removed]",
      "text/plain": [
       "<Figure size 432x288 with 1 Axes>"
      ]
     },
     "metadata": {
      "needs_background": "light"
     },
     "output_type": "display_data"
    }
   ],
   "source": [
    "print('Phi coefficient: {:.4f}'.format(matthews_corrcoef(df_eda['worker'].replace('no', 0).replace('yes', 1), df_eda['stroke'])))\n",
    "sns.countplot(x='worker', hue='stroke', data=df_eda);"
   ]
  },
  {
   "cell_type": "code",
   "execution_count": 60,
   "id": "hairy-helen",
   "metadata": {
    "ExecuteTime": {
     "end_time": "2021-03-28T06:40:07.102503Z",
     "start_time": "2021-03-28T06:40:07.087580Z"
    },
    "hidden": true
   },
   "outputs": [
    {
     "data": {
      "text/plain": [
       "worker  stroke\n",
       "no      0         99.717913\n",
       "        1          0.282087\n",
       "yes     0         94.387639\n",
       "        1          5.612361\n",
       "Name: stroke, dtype: float64"
      ]
     },
     "execution_count": 60,
     "metadata": {},
     "output_type": "execute_result"
    }
   ],
   "source": [
    "df_eda.groupby('worker')['stroke'].value_counts(normalize=True).mul(100)"
   ]
  },
  {
   "cell_type": "markdown",
   "id": "pointed-carol",
   "metadata": {
    "ExecuteTime": {
     "end_time": "2021-03-28T04:03:09.541733Z",
     "start_time": "2021-03-28T04:03:09.526905Z"
    },
    "hidden": true
   },
   "source": [
    "It's much more assertive than the feature work_type alone."
   ]
  },
  {
   "cell_type": "markdown",
   "id": "editorial-exception",
   "metadata": {
    "heading_collapsed": true
   },
   "source": [
    "#### (H6) If the patient is a child, he has less chance of suffer a stroke. [True]"
   ]
  },
  {
   "cell_type": "markdown",
   "id": "suitable-nightmare",
   "metadata": {
    "ExecuteTime": {
     "end_time": "2021-03-28T04:07:08.996433Z",
     "start_time": "2021-03-28T04:07:08.968467Z"
    },
    "hidden": true
   },
   "source": [
    "Already answered before, but..."
   ]
  },
  {
   "cell_type": "code",
   "execution_count": 61,
   "id": "polyphonic-tokyo",
   "metadata": {
    "ExecuteTime": {
     "end_time": "2021-03-28T06:40:07.117463Z",
     "start_time": "2021-03-28T06:40:07.103500Z"
    },
    "hidden": true
   },
   "outputs": [
    {
     "data": {
      "text/plain": [
       "life_stage        stroke\n",
       "infant            0         100.000000\n",
       "toddler           0          99.516908\n",
       "                  1           0.483092\n",
       "child             0         100.000000\n",
       "teen              0          99.735450\n",
       "                  1           0.264550\n",
       "adult             0          99.501661\n",
       "                  1           0.498339\n",
       "middle age adult  0          96.163683\n",
       "                  1           3.836317\n",
       "senior Adult      0          86.845930\n",
       "                  1          13.154070\n",
       "Name: stroke, dtype: float64"
      ]
     },
     "execution_count": 61,
     "metadata": {},
     "output_type": "execute_result"
    }
   ],
   "source": [
    "df_eda.groupby('life_stage')['stroke'].value_counts(normalize=True).mul(100)"
   ]
  },
  {
   "cell_type": "code",
   "execution_count": 62,
   "id": "connected-condition",
   "metadata": {
    "ExecuteTime": {
     "end_time": "2021-03-28T06:40:07.148380Z",
     "start_time": "2021-03-28T06:40:07.118461Z"
    },
    "hidden": true
   },
   "outputs": [
    {
     "name": "stdout",
     "output_type": "stream",
     "text": [
      "Crammer V coeff 0.0592\n"
     ]
    }
   ],
   "source": [
    "print('Crammer V coeff {:.4f}'.format(cramers_V(df_eda['life_stage'], df_eda['stroke'])))"
   ]
  },
  {
   "cell_type": "markdown",
   "id": "located-module",
   "metadata": {
    "hidden": true
   },
   "source": [
    "Yeah, it's true."
   ]
  },
  {
   "cell_type": "markdown",
   "id": "continent-workplace",
   "metadata": {
    "ExecuteTime": {
     "end_time": "2021-03-28T04:06:11.787813Z",
     "start_time": "2021-03-28T04:06:11.776830Z"
    },
    "heading_collapsed": true
   },
   "source": [
    "#### (H7) If the patient lives in urban place, he has more chance of suffer a stroke. [True]"
   ]
  },
  {
   "cell_type": "code",
   "execution_count": 63,
   "id": "supposed-semester",
   "metadata": {
    "ExecuteTime": {
     "end_time": "2021-03-28T06:40:07.164337Z",
     "start_time": "2021-03-28T06:40:07.150375Z"
    },
    "hidden": true
   },
   "outputs": [
    {
     "data": {
      "text/html": [
       "<div>\n",
       "<style scoped>\n",
       "    .dataframe tbody tr th:only-of-type {\n",
       "        vertical-align: middle;\n",
       "    }\n",
       "\n",
       "    .dataframe tbody tr th {\n",
       "        vertical-align: top;\n",
       "    }\n",
       "\n",
       "    .dataframe thead th {\n",
       "        text-align: right;\n",
       "    }\n",
       "</style>\n",
       "<table border=\"1\" class=\"dataframe\">\n",
       "  <thead>\n",
       "    <tr style=\"text-align: right;\">\n",
       "      <th></th>\n",
       "      <th>residence_type</th>\n",
       "      <th>stroke</th>\n",
       "      <th>%</th>\n",
       "    </tr>\n",
       "  </thead>\n",
       "  <tbody>\n",
       "    <tr>\n",
       "      <th>0</th>\n",
       "      <td>Rural</td>\n",
       "      <td>0</td>\n",
       "      <td>95.465394</td>\n",
       "    </tr>\n",
       "    <tr>\n",
       "      <th>1</th>\n",
       "      <td>Rural</td>\n",
       "      <td>1</td>\n",
       "      <td>4.534606</td>\n",
       "    </tr>\n",
       "    <tr>\n",
       "      <th>2</th>\n",
       "      <td>Urban</td>\n",
       "      <td>0</td>\n",
       "      <td>94.799692</td>\n",
       "    </tr>\n",
       "    <tr>\n",
       "      <th>3</th>\n",
       "      <td>Urban</td>\n",
       "      <td>1</td>\n",
       "      <td>5.200308</td>\n",
       "    </tr>\n",
       "  </tbody>\n",
       "</table>\n",
       "</div>"
      ],
      "text/plain": [
       "  residence_type  stroke          %\n",
       "0          Rural       0  95.465394\n",
       "1          Rural       1   4.534606\n",
       "2          Urban       0  94.799692\n",
       "3          Urban       1   5.200308"
      ]
     },
     "execution_count": 63,
     "metadata": {},
     "output_type": "execute_result"
    }
   ],
   "source": [
    "data_aux = df_eda.groupby('residence_type')['stroke'].value_counts(normalize=True).mul(100).rename('%').reset_index()\n",
    "data_aux"
   ]
  },
  {
   "cell_type": "code",
   "execution_count": 64,
   "id": "built-press",
   "metadata": {
    "ExecuteTime": {
     "end_time": "2021-03-28T06:40:07.307127Z",
     "start_time": "2021-03-28T06:40:07.165335Z"
    },
    "hidden": true
   },
   "outputs": [
    {
     "name": "stdout",
     "output_type": "stream",
     "text": [
      "Phi coefficient: 0.0155\n"
     ]
    },
    {
     "data": {
      "image/png": "[encoded data removed]",
      "text/plain": [
       "<Figure size 432x288 with 1 Axes>"
      ]
     },
     "metadata": {
      "needs_background": "light"
     },
     "output_type": "display_data"
    }
   ],
   "source": [
    "print('Phi coefficient: {:.4f}'.format(matthews_corrcoef(df_eda['residence_type'].replace('Urban', 1).replace('Rural', 0), df_eda['stroke'])))\n",
    "sns.barplot(x='residence_type', y='%', hue='stroke', data=data_aux.sort_values('stroke'));"
   ]
  },
  {
   "cell_type": "markdown",
   "id": "molecular-soviet",
   "metadata": {
    "ExecuteTime": {
     "end_time": "2021-03-28T04:06:18.618108Z",
     "start_time": "2021-03-28T04:06:18.603870Z"
    },
    "heading_collapsed": true
   },
   "source": [
    "#### (H8) The greater the average glucose, the greater are the chances of suffer a stroke. [True]"
   ]
  },
  {
   "cell_type": "code",
   "execution_count": 65,
   "id": "sized-twist",
   "metadata": {
    "ExecuteTime": {
     "end_time": "2021-03-28T06:40:07.710690Z",
     "start_time": "2021-03-28T06:40:07.308124Z"
    },
    "hidden": true
   },
   "outputs": [
    {
     "data": {
      "image/png": "[encoded data removed]",
      "text/plain": [
       "<Figure size 1008x288 with 2 Axes>"
      ]
     },
     "metadata": {
      "needs_background": "light"
     },
     "output_type": "display_data"
    }
   ],
   "source": [
    "fig, axes = plt.subplots(1, 2, figsize=(14, 4))\n",
    "ax = axes.ravel()\n",
    "\n",
    "sns.boxplot(y='avg_glucose_level', x='stroke', data=df_eda, ax=ax[0]);\n",
    "sns.histplot(x='avg_glucose_level', hue='stroke', data=df_eda, ax=ax[1]);"
   ]
  },
  {
   "cell_type": "code",
   "execution_count": 66,
   "id": "upset-orchestra",
   "metadata": {
    "ExecuteTime": {
     "end_time": "2021-03-28T06:40:07.726647Z",
     "start_time": "2021-03-28T06:40:07.711688Z"
    },
    "hidden": true
   },
   "outputs": [
    {
     "name": "stdout",
     "output_type": "stream",
     "text": [
      "Point Biseral corr 0.1319 p-value 0.0000:\n"
     ]
    }
   ],
   "source": [
    "print('Point Biseral corr {:.4f} p-value {:.4f}:'.format(*list(pointbiserialr(df_eda['avg_glucose_level'], df_eda['stroke']))))"
   ]
  },
  {
   "cell_type": "markdown",
   "id": "proved-vegetation",
   "metadata": {
    "hidden": true
   },
   "source": [
    "Yes, it's true. We can also confirm our intuition by seeing if the patient is a potential diabetic."
   ]
  },
  {
   "cell_type": "code",
   "execution_count": 67,
   "id": "going-scheme",
   "metadata": {
    "ExecuteTime": {
     "end_time": "2021-03-28T06:40:07.742604Z",
     "start_time": "2021-03-28T06:40:07.727644Z"
    },
    "hidden": true
   },
   "outputs": [
    {
     "data": {
      "text/html": [
       "<div>\n",
       "<style scoped>\n",
       "    .dataframe tbody tr th:only-of-type {\n",
       "        vertical-align: middle;\n",
       "    }\n",
       "\n",
       "    .dataframe tbody tr th {\n",
       "        vertical-align: top;\n",
       "    }\n",
       "\n",
       "    .dataframe thead th {\n",
       "        text-align: right;\n",
       "    }\n",
       "</style>\n",
       "<table border=\"1\" class=\"dataframe\">\n",
       "  <thead>\n",
       "    <tr style=\"text-align: right;\">\n",
       "      <th></th>\n",
       "      <th>potential_diabetic</th>\n",
       "      <th>stroke</th>\n",
       "      <th>%</th>\n",
       "    </tr>\n",
       "  </thead>\n",
       "  <tbody>\n",
       "    <tr>\n",
       "      <th>0</th>\n",
       "      <td>no</td>\n",
       "      <td>0</td>\n",
       "      <td>96.301248</td>\n",
       "    </tr>\n",
       "    <tr>\n",
       "      <th>1</th>\n",
       "      <td>no</td>\n",
       "      <td>1</td>\n",
       "      <td>3.698752</td>\n",
       "    </tr>\n",
       "    <tr>\n",
       "      <th>2</th>\n",
       "      <td>yes</td>\n",
       "      <td>0</td>\n",
       "      <td>86.655949</td>\n",
       "    </tr>\n",
       "    <tr>\n",
       "      <th>3</th>\n",
       "      <td>yes</td>\n",
       "      <td>1</td>\n",
       "      <td>13.344051</td>\n",
       "    </tr>\n",
       "  </tbody>\n",
       "</table>\n",
       "</div>"
      ],
      "text/plain": [
       "  potential_diabetic  stroke          %\n",
       "0                 no       0  96.301248\n",
       "1                 no       1   3.698752\n",
       "2                yes       0  86.655949\n",
       "3                yes       1  13.344051"
      ]
     },
     "execution_count": 67,
     "metadata": {},
     "output_type": "execute_result"
    }
   ],
   "source": [
    "data_aux = df_eda.groupby('potential_diabetic')['stroke'].value_counts(normalize=True).mul(100).rename('%').reset_index()\n",
    "data_aux"
   ]
  },
  {
   "cell_type": "markdown",
   "id": "associate-format",
   "metadata": {
    "hidden": true
   },
   "source": [
    "(Hopefully) Very true :P"
   ]
  },
  {
   "cell_type": "code",
   "execution_count": 68,
   "id": "moderate-adult",
   "metadata": {
    "ExecuteTime": {
     "end_time": "2021-03-28T06:40:07.758561Z",
     "start_time": "2021-03-28T06:40:07.744599Z"
    },
    "hidden": true
   },
   "outputs": [
    {
     "name": "stdout",
     "output_type": "stream",
     "text": [
      "Phi coefficient: 0.1465\n"
     ]
    }
   ],
   "source": [
    "print('Phi coefficient: {:.4f}'.format(matthews_corrcoef(df_eda['potential_diabetic'].replace('no', 0).replace('yes', 1), df_eda['stroke'])))"
   ]
  },
  {
   "cell_type": "markdown",
   "id": "parallel-prime",
   "metadata": {
    "heading_collapsed": true
   },
   "source": [
    "#### (H9) The greater the BMI glucose, the greater are the chances of suffer a stroke. [True]"
   ]
  },
  {
   "cell_type": "code",
   "execution_count": 69,
   "id": "arranged-parliament",
   "metadata": {
    "ExecuteTime": {
     "end_time": "2021-03-28T06:40:07.773521Z",
     "start_time": "2021-03-28T06:40:07.759559Z"
    },
    "hidden": true
   },
   "outputs": [
    {
     "name": "stdout",
     "output_type": "stream",
     "text": [
      "Point Biseral corr 0.0389 p-value 0.0054:\n"
     ]
    }
   ],
   "source": [
    "print('Point Biseral corr {:.4f} p-value {:.4f}:'.format(*list(pointbiserialr(df_eda['bmi'], df_eda['stroke']))))"
   ]
  },
  {
   "cell_type": "code",
   "execution_count": 70,
   "id": "hourly-elements",
   "metadata": {
    "ExecuteTime": {
     "end_time": "2021-03-28T06:40:08.350676Z",
     "start_time": "2021-03-28T06:40:07.774518Z"
    },
    "hidden": true
   },
   "outputs": [
    {
     "data": {
      "image/png": "[encoded data removed]",
      "text/plain": [
       "<Figure size 1008x288 with 2 Axes>"
      ]
     },
     "metadata": {
      "needs_background": "light"
     },
     "output_type": "display_data"
    }
   ],
   "source": [
    "fig, axes = plt.subplots(1, 2, figsize=(14, 4))\n",
    "ax = axes.ravel()\n",
    "\n",
    "sns.boxplot(y='bmi', x='stroke', data=df_eda, ax=ax[0]);\n",
    "sns.histplot(x='bmi', hue='stroke', data=df_eda, ax=ax[1]);"
   ]
  },
  {
   "cell_type": "markdown",
   "id": "copyrighted-representation",
   "metadata": {
    "hidden": true
   },
   "source": [
    "It seems the BMI for people that suffered with a stroke are more concentrated and are slitly high (median) than people that doesn't suffered a stroke."
   ]
  },
  {
   "cell_type": "markdown",
   "id": "lonely-partition",
   "metadata": {
    "hidden": true
   },
   "source": [
    "With raw numbers in % we can have a clear picture of that."
   ]
  },
  {
   "cell_type": "code",
   "execution_count": 71,
   "id": "immediate-understanding",
   "metadata": {
    "ExecuteTime": {
     "end_time": "2021-03-28T06:40:08.366754Z",
     "start_time": "2021-03-28T06:40:08.352790Z"
    },
    "hidden": true
   },
   "outputs": [
    {
     "data": {
      "text/html": [
       "<div>\n",
       "<style scoped>\n",
       "    .dataframe tbody tr th:only-of-type {\n",
       "        vertical-align: middle;\n",
       "    }\n",
       "\n",
       "    .dataframe tbody tr th {\n",
       "        vertical-align: top;\n",
       "    }\n",
       "\n",
       "    .dataframe thead th {\n",
       "        text-align: right;\n",
       "    }\n",
       "</style>\n",
       "<table border=\"1\" class=\"dataframe\">\n",
       "  <thead>\n",
       "    <tr style=\"text-align: right;\">\n",
       "      <th></th>\n",
       "      <th>bmi_class</th>\n",
       "      <th>stroke</th>\n",
       "      <th>%</th>\n",
       "    </tr>\n",
       "  </thead>\n",
       "  <tbody>\n",
       "    <tr>\n",
       "      <th>0</th>\n",
       "      <td>underweight</td>\n",
       "      <td>0</td>\n",
       "      <td>99.703264</td>\n",
       "    </tr>\n",
       "    <tr>\n",
       "      <th>1</th>\n",
       "      <td>underweight</td>\n",
       "      <td>1</td>\n",
       "      <td>0.296736</td>\n",
       "    </tr>\n",
       "    <tr>\n",
       "      <th>2</th>\n",
       "      <td>normal</td>\n",
       "      <td>0</td>\n",
       "      <td>97.184232</td>\n",
       "    </tr>\n",
       "    <tr>\n",
       "      <th>3</th>\n",
       "      <td>normal</td>\n",
       "      <td>1</td>\n",
       "      <td>2.815768</td>\n",
       "    </tr>\n",
       "    <tr>\n",
       "      <th>4</th>\n",
       "      <td>overweight</td>\n",
       "      <td>0</td>\n",
       "      <td>92.857143</td>\n",
       "    </tr>\n",
       "    <tr>\n",
       "      <th>5</th>\n",
       "      <td>overweight</td>\n",
       "      <td>1</td>\n",
       "      <td>7.142857</td>\n",
       "    </tr>\n",
       "    <tr>\n",
       "      <th>6</th>\n",
       "      <td>obesity 1</td>\n",
       "      <td>0</td>\n",
       "      <td>94.400000</td>\n",
       "    </tr>\n",
       "    <tr>\n",
       "      <th>7</th>\n",
       "      <td>obesity 1</td>\n",
       "      <td>1</td>\n",
       "      <td>5.600000</td>\n",
       "    </tr>\n",
       "    <tr>\n",
       "      <th>8</th>\n",
       "      <td>obesity 2</td>\n",
       "      <td>0</td>\n",
       "      <td>95.454545</td>\n",
       "    </tr>\n",
       "    <tr>\n",
       "      <th>9</th>\n",
       "      <td>obesity 2</td>\n",
       "      <td>1</td>\n",
       "      <td>4.545455</td>\n",
       "    </tr>\n",
       "    <tr>\n",
       "      <th>10</th>\n",
       "      <td>obesity 3</td>\n",
       "      <td>0</td>\n",
       "      <td>95.410628</td>\n",
       "    </tr>\n",
       "    <tr>\n",
       "      <th>11</th>\n",
       "      <td>obesity 3</td>\n",
       "      <td>1</td>\n",
       "      <td>4.589372</td>\n",
       "    </tr>\n",
       "  </tbody>\n",
       "</table>\n",
       "</div>"
      ],
      "text/plain": [
       "      bmi_class  stroke          %\n",
       "0   underweight       0  99.703264\n",
       "1   underweight       1   0.296736\n",
       "2        normal       0  97.184232\n",
       "3        normal       1   2.815768\n",
       "4    overweight       0  92.857143\n",
       "5    overweight       1   7.142857\n",
       "6     obesity 1       0  94.400000\n",
       "7     obesity 1       1   5.600000\n",
       "8     obesity 2       0  95.454545\n",
       "9     obesity 2       1   4.545455\n",
       "10    obesity 3       0  95.410628\n",
       "11    obesity 3       1   4.589372"
      ]
     },
     "execution_count": 71,
     "metadata": {},
     "output_type": "execute_result"
    }
   ],
   "source": [
    "data_aux = df_eda.groupby('bmi_class')['stroke'].value_counts(normalize=True).mul(100).rename('%').reset_index()\n",
    "data_aux"
   ]
  },
  {
   "cell_type": "code",
   "execution_count": 72,
   "id": "demanding-skill",
   "metadata": {
    "ExecuteTime": {
     "end_time": "2021-03-28T06:40:08.397672Z",
     "start_time": "2021-03-28T06:40:08.367752Z"
    },
    "hidden": true
   },
   "outputs": [
    {
     "name": "stdout",
     "output_type": "stream",
     "text": [
      "Crammer V coeff 0.0090\n"
     ]
    }
   ],
   "source": [
    "print('Crammer V coeff {:.4f}'.format(cramers_V(df_eda['bmi_class'], df_eda['stroke'])))"
   ]
  },
  {
   "cell_type": "markdown",
   "id": "detected-wholesale",
   "metadata": {
    "hidden": true
   },
   "source": [
    "As BMI increases, we also increases the number of people that suffered strokes."
   ]
  },
  {
   "cell_type": "code",
   "execution_count": 73,
   "id": "pointed-shannon",
   "metadata": {
    "ExecuteTime": {
     "end_time": "2021-03-28T06:40:08.413628Z",
     "start_time": "2021-03-28T06:40:08.399668Z"
    },
    "hidden": true
   },
   "outputs": [
    {
     "data": {
      "text/html": [
       "<div>\n",
       "<style scoped>\n",
       "    .dataframe tbody tr th:only-of-type {\n",
       "        vertical-align: middle;\n",
       "    }\n",
       "\n",
       "    .dataframe tbody tr th {\n",
       "        vertical-align: top;\n",
       "    }\n",
       "\n",
       "    .dataframe thead th {\n",
       "        text-align: right;\n",
       "    }\n",
       "</style>\n",
       "<table border=\"1\" class=\"dataframe\">\n",
       "  <thead>\n",
       "    <tr style=\"text-align: right;\">\n",
       "      <th></th>\n",
       "      <th>bmi_class_2</th>\n",
       "      <th>stroke</th>\n",
       "      <th>%</th>\n",
       "    </tr>\n",
       "  </thead>\n",
       "  <tbody>\n",
       "    <tr>\n",
       "      <th>0</th>\n",
       "      <td>normal</td>\n",
       "      <td>0</td>\n",
       "      <td>97.184232</td>\n",
       "    </tr>\n",
       "    <tr>\n",
       "      <th>1</th>\n",
       "      <td>normal</td>\n",
       "      <td>1</td>\n",
       "      <td>2.815768</td>\n",
       "    </tr>\n",
       "    <tr>\n",
       "      <th>2</th>\n",
       "      <td>obesity</td>\n",
       "      <td>0</td>\n",
       "      <td>93.966006</td>\n",
       "    </tr>\n",
       "    <tr>\n",
       "      <th>3</th>\n",
       "      <td>obesity</td>\n",
       "      <td>1</td>\n",
       "      <td>6.033994</td>\n",
       "    </tr>\n",
       "    <tr>\n",
       "      <th>4</th>\n",
       "      <td>underweight</td>\n",
       "      <td>0</td>\n",
       "      <td>99.703264</td>\n",
       "    </tr>\n",
       "    <tr>\n",
       "      <th>5</th>\n",
       "      <td>underweight</td>\n",
       "      <td>1</td>\n",
       "      <td>0.296736</td>\n",
       "    </tr>\n",
       "  </tbody>\n",
       "</table>\n",
       "</div>"
      ],
      "text/plain": [
       "   bmi_class_2  stroke          %\n",
       "0       normal       0  97.184232\n",
       "1       normal       1   2.815768\n",
       "2      obesity       0  93.966006\n",
       "3      obesity       1   6.033994\n",
       "4  underweight       0  99.703264\n",
       "5  underweight       1   0.296736"
      ]
     },
     "execution_count": 73,
     "metadata": {},
     "output_type": "execute_result"
    }
   ],
   "source": [
    "df_eda.groupby('bmi_class_2')['stroke'].value_counts(normalize=True).mul(100).rename('%').reset_index()"
   ]
  },
  {
   "cell_type": "code",
   "execution_count": 74,
   "id": "coral-prison",
   "metadata": {
    "ExecuteTime": {
     "end_time": "2021-03-28T06:40:08.444545Z",
     "start_time": "2021-03-28T06:40:08.414626Z"
    },
    "hidden": true
   },
   "outputs": [
    {
     "name": "stdout",
     "output_type": "stream",
     "text": [
      "Crammer V coeff 0.0072\n"
     ]
    }
   ],
   "source": [
    "print('Crammer V coeff {:.4f}'.format(cramers_V(df_eda['bmi_class_2'], df_eda['stroke'])))"
   ]
  },
  {
   "cell_type": "markdown",
   "id": "incredible-payday",
   "metadata": {
    "heading_collapsed": true
   },
   "source": [
    "#### (H10) If the patient smokes, he has more chance of suffer a stroke. [ False]"
   ]
  },
  {
   "cell_type": "code",
   "execution_count": 75,
   "id": "referenced-bottle",
   "metadata": {
    "ExecuteTime": {
     "end_time": "2021-03-28T06:40:08.460503Z",
     "start_time": "2021-03-28T06:40:08.445542Z"
    },
    "hidden": true
   },
   "outputs": [
    {
     "data": {
      "text/html": [
       "<div>\n",
       "<style scoped>\n",
       "    .dataframe tbody tr th:only-of-type {\n",
       "        vertical-align: middle;\n",
       "    }\n",
       "\n",
       "    .dataframe tbody tr th {\n",
       "        vertical-align: top;\n",
       "    }\n",
       "\n",
       "    .dataframe thead th {\n",
       "        text-align: right;\n",
       "    }\n",
       "</style>\n",
       "<table border=\"1\" class=\"dataframe\">\n",
       "  <thead>\n",
       "    <tr style=\"text-align: right;\">\n",
       "      <th></th>\n",
       "      <th>smoking_status</th>\n",
       "      <th>stroke</th>\n",
       "      <th>%</th>\n",
       "    </tr>\n",
       "  </thead>\n",
       "  <tbody>\n",
       "    <tr>\n",
       "      <th>0</th>\n",
       "      <td>Unknown</td>\n",
       "      <td>0</td>\n",
       "      <td>96.955959</td>\n",
       "    </tr>\n",
       "    <tr>\n",
       "      <th>1</th>\n",
       "      <td>Unknown</td>\n",
       "      <td>1</td>\n",
       "      <td>3.044041</td>\n",
       "    </tr>\n",
       "    <tr>\n",
       "      <th>2</th>\n",
       "      <td>formerly smoked</td>\n",
       "      <td>0</td>\n",
       "      <td>92.090395</td>\n",
       "    </tr>\n",
       "    <tr>\n",
       "      <th>3</th>\n",
       "      <td>formerly smoked</td>\n",
       "      <td>1</td>\n",
       "      <td>7.909605</td>\n",
       "    </tr>\n",
       "    <tr>\n",
       "      <th>4</th>\n",
       "      <td>never smoked</td>\n",
       "      <td>0</td>\n",
       "      <td>95.243129</td>\n",
       "    </tr>\n",
       "    <tr>\n",
       "      <th>5</th>\n",
       "      <td>never smoked</td>\n",
       "      <td>1</td>\n",
       "      <td>4.756871</td>\n",
       "    </tr>\n",
       "    <tr>\n",
       "      <th>6</th>\n",
       "      <td>smokes</td>\n",
       "      <td>0</td>\n",
       "      <td>94.676806</td>\n",
       "    </tr>\n",
       "    <tr>\n",
       "      <th>7</th>\n",
       "      <td>smokes</td>\n",
       "      <td>1</td>\n",
       "      <td>5.323194</td>\n",
       "    </tr>\n",
       "  </tbody>\n",
       "</table>\n",
       "</div>"
      ],
      "text/plain": [
       "    smoking_status  stroke          %\n",
       "0          Unknown       0  96.955959\n",
       "1          Unknown       1   3.044041\n",
       "2  formerly smoked       0  92.090395\n",
       "3  formerly smoked       1   7.909605\n",
       "4     never smoked       0  95.243129\n",
       "5     never smoked       1   4.756871\n",
       "6           smokes       0  94.676806\n",
       "7           smokes       1   5.323194"
      ]
     },
     "execution_count": 75,
     "metadata": {},
     "output_type": "execute_result"
    }
   ],
   "source": [
    "df_eda.groupby('smoking_status')['stroke'].value_counts(normalize=True).mul(100).rename('%').reset_index()"
   ]
  },
  {
   "cell_type": "code",
   "execution_count": 76,
   "id": "weekly-force",
   "metadata": {
    "ExecuteTime": {
     "end_time": "2021-03-28T06:40:08.476459Z",
     "start_time": "2021-03-28T06:40:08.461501Z"
    },
    "hidden": true
   },
   "outputs": [
    {
     "name": "stdout",
     "output_type": "stream",
     "text": [
      "Crammer V coeff 0.0057\n"
     ]
    }
   ],
   "source": [
    "print('Crammer V coeff {:.4f}'.format(cramers_V(df_eda['smoking_status'], df_eda['stroke'])))"
   ]
  },
  {
   "cell_type": "markdown",
   "id": "molecular-bleeding",
   "metadata": {
    "hidden": true
   },
   "source": [
    "Okay, if the patient smokes he has some chance to have a stroke, but it's not far from people that never smoked and formerly smokers suffered more strokes than smokers."
   ]
  },
  {
   "cell_type": "markdown",
   "id": "senior-birthday",
   "metadata": {
    "hidden": true
   },
   "source": [
    "The information here is also important to replace the info we had about smoking children."
   ]
  },
  {
   "cell_type": "markdown",
   "id": "junior-railway",
   "metadata": {
    "heading_collapsed": true
   },
   "source": [
    "#### (H11) If the patient is a potential diabetic he has more chance of suffer a stroke. [True]"
   ]
  },
  {
   "cell_type": "markdown",
   "id": "accepting-world",
   "metadata": {
    "hidden": true
   },
   "source": [
    "Already proved."
   ]
  },
  {
   "cell_type": "markdown",
   "id": "regulated-thursday",
   "metadata": {
    "ExecuteTime": {
     "end_time": "2021-03-28T05:15:18.760172Z",
     "start_time": "2021-03-28T05:15:14.169Z"
    },
    "heading_collapsed": true
   },
   "source": [
    "#### Overall features correlation"
   ]
  },
  {
   "cell_type": "markdown",
   "id": "invisible-logic",
   "metadata": {
    "ExecuteTime": {
     "end_time": "2021-03-28T06:32:54.445168Z",
     "start_time": "2021-03-28T06:32:54.438986Z"
    },
    "hidden": true
   },
   "source": [
    "##### Numerical features"
   ]
  },
  {
   "cell_type": "code",
   "execution_count": 77,
   "id": "naughty-cutting",
   "metadata": {
    "ExecuteTime": {
     "end_time": "2021-03-28T06:40:08.869444Z",
     "start_time": "2021-03-28T06:40:08.477458Z"
    },
    "hidden": true
   },
   "outputs": [
    {
     "data": {
      "image/png": "[encoded data removed]",
      "text/plain": [
       "<Figure size 432x288 with 2 Axes>"
      ]
     },
     "metadata": {
      "needs_background": "light"
     },
     "output_type": "display_data"
    }
   ],
   "source": [
    "corr = df_eda_num.corr('pearson')\n",
    "sns.heatmap(corr, annot=True, xticklabels=corr.columns.values, yticklabels=corr.columns.values, cmap='YlOrRd');"
   ]
  },
  {
   "cell_type": "markdown",
   "id": "faced-owner",
   "metadata": {
    "hidden": true
   },
   "source": [
    "The variable that is most correlated to the stroke is age, followed by hypertension, heart_disease and avg_glucose_level. bmi has a very little correlation."
   ]
  },
  {
   "cell_type": "markdown",
   "id": "moved-duration",
   "metadata": {
    "ExecuteTime": {
     "end_time": "2021-03-28T06:33:10.027120Z",
     "start_time": "2021-03-28T06:33:10.011643Z"
    },
    "hidden": true
   },
   "source": [
    "##### Categorical Features"
   ]
  },
  {
   "cell_type": "code",
   "execution_count": 78,
   "id": "sublime-reminder",
   "metadata": {
    "ExecuteTime": {
     "end_time": "2021-03-28T06:40:09.899272Z",
     "start_time": "2021-03-28T06:40:08.870443Z"
    },
    "hidden": true
   },
   "outputs": [],
   "source": [
    "d_cramers = dict()\n",
    "\n",
    "for col in list(df_eda_cat.columns)+ ['stroke']:\n",
    "    d_cramers[col] = []\n",
    "    for col_2 in list(df_eda_cat.columns) + ['stroke']:\n",
    "        #print(col, col_2)\n",
    "        d_cramers[col].append(round(cramers_V(df_eda[col], df_eda[col_2]),2))\n",
    "\n",
    "df = pd.DataFrame(d_cramers)\n",
    "df.set_index(df.columns);"
   ]
  },
  {
   "cell_type": "code",
   "execution_count": 79,
   "id": "lasting-victorian",
   "metadata": {
    "ExecuteTime": {
     "end_time": "2021-03-28T06:40:10.772506Z",
     "start_time": "2021-03-28T06:40:09.901994Z"
    },
    "hidden": true
   },
   "outputs": [
    {
     "data": {
      "image/png": "[encoded data removed]",
      "text/plain": [
       "<Figure size 640x480 with 2 Axes>"
      ]
     },
     "metadata": {
      "needs_background": "light"
     },
     "output_type": "display_data"
    }
   ],
   "source": [
    "plt.figure(figsize=(8, 6), dpi=80);\n",
    "sns.heatmap(df, annot=True, xticklabels=df.columns.values, yticklabels=df.columns.values, cmap='YlOrRd');"
   ]
  },
  {
   "cell_type": "markdown",
   "id": "pending-implementation",
   "metadata": {
    "ExecuteTime": {
     "end_time": "2021-03-28T05:42:42.904078Z",
     "start_time": "2021-03-28T05:42:42.893096Z"
    },
    "heading_collapsed": true
   },
   "source": [
    "#### Deeper correlations"
   ]
  },
  {
   "cell_type": "markdown",
   "id": "coastal-ending",
   "metadata": {
    "hidden": true
   },
   "source": [
    "Here I report some deeper correlations using two columns. Note that, when we segment our dataset, more (strong) correlations tend to appear."
   ]
  },
  {
   "cell_type": "code",
   "execution_count": 80,
   "id": "anticipated-witch",
   "metadata": {
    "ExecuteTime": {
     "end_time": "2021-03-28T06:43:01.727393Z",
     "start_time": "2021-03-28T06:42:56.579050Z"
    },
    "hidden": true
   },
   "outputs": [
    {
     "name": "stderr",
     "output_type": "stream",
     "text": [
      "C:\\Users\\prove\\anaconda3\\envs\\dsp\\lib\\site-packages\\scipy\\stats\\stats.py:3913: PearsonRConstantInputWarning: An input array is constant; the correlation coefficent is not defined.\n",
      "  warnings.warn(PearsonRConstantInputWarning())\n"
     ]
    },
    {
     "data": {
      "text/html": [
       "<style  type=\"text/css\" >\n",
       "</style><table id=\"T_8aee2_\" style='display:inline'><caption>Rules with higher correlations </caption><thead>    <tr>        <th class=\"blank level0\" ></th>        <th class=\"col_heading level0 col0\" >col_ind</th>        <th class=\"col_heading level0 col1\" >Col</th>        <th class=\"col_heading level0 col2\" >Col2</th>        <th class=\"col_heading level0 col3\" >Val</th>        <th class=\"col_heading level0 col4\" >Val2</th>        <th class=\"col_heading level0 col5\" >Corr</th>        <th class=\"col_heading level0 col6\" >p-value</th>    </tr></thead><tbody>\n",
       "                <tr>\n",
       "                        <th id=\"T_8aee2_level0_row0\" class=\"row_heading level0 row0\" >1485</th>\n",
       "                        <td id=\"T_8aee2_row0_col0\" class=\"data row0 col0\" >heart_disease</td>\n",
       "                        <td id=\"T_8aee2_row0_col1\" class=\"data row0 col1\" >smoking_status</td>\n",
       "                        <td id=\"T_8aee2_row0_col2\" class=\"data row0 col2\" >bmi_class</td>\n",
       "                        <td id=\"T_8aee2_row0_col3\" class=\"data row0 col3\" >smokes</td>\n",
       "                        <td id=\"T_8aee2_row0_col4\" class=\"data row0 col4\" >obesity 2</td>\n",
       "                        <td id=\"T_8aee2_row0_col5\" class=\"data row0 col5\" >0.496558</td>\n",
       "                        <td id=\"T_8aee2_row0_col6\" class=\"data row0 col6\" >0.000000</td>\n",
       "            </tr>\n",
       "            <tr>\n",
       "                        <th id=\"T_8aee2_level0_row1\" class=\"row_heading level0 row1\" >388</th>\n",
       "                        <td id=\"T_8aee2_row1_col0\" class=\"data row1 col0\" >hypertension</td>\n",
       "                        <td id=\"T_8aee2_row1_col1\" class=\"data row1 col1\" >ever_married</td>\n",
       "                        <td id=\"T_8aee2_row1_col2\" class=\"data row1 col2\" >smoking_status</td>\n",
       "                        <td id=\"T_8aee2_row1_col3\" class=\"data row1 col3\" >No</td>\n",
       "                        <td id=\"T_8aee2_row1_col4\" class=\"data row1 col4\" >never smoked</td>\n",
       "                        <td id=\"T_8aee2_row1_col5\" class=\"data row1 col5\" >0.445035</td>\n",
       "                        <td id=\"T_8aee2_row1_col6\" class=\"data row1 col6\" >0.000000</td>\n",
       "            </tr>\n",
       "            <tr>\n",
       "                        <th id=\"T_8aee2_level0_row2\" class=\"row_heading level0 row2\" >508</th>\n",
       "                        <td id=\"T_8aee2_row2_col0\" class=\"data row2 col0\" >hypertension</td>\n",
       "                        <td id=\"T_8aee2_row2_col1\" class=\"data row2 col1\" >ever_married</td>\n",
       "                        <td id=\"T_8aee2_row2_col2\" class=\"data row2 col2\" >bmi_class</td>\n",
       "                        <td id=\"T_8aee2_row2_col3\" class=\"data row2 col3\" >No</td>\n",
       "                        <td id=\"T_8aee2_row2_col4\" class=\"data row2 col4\" >obesity 2</td>\n",
       "                        <td id=\"T_8aee2_row2_col5\" class=\"data row2 col5\" >0.441149</td>\n",
       "                        <td id=\"T_8aee2_row2_col6\" class=\"data row2 col6\" >0.000003</td>\n",
       "            </tr>\n",
       "            <tr>\n",
       "                        <th id=\"T_8aee2_level0_row3\" class=\"row_heading level0 row3\" >496</th>\n",
       "                        <td id=\"T_8aee2_row3_col0\" class=\"data row3 col0\" >age</td>\n",
       "                        <td id=\"T_8aee2_row3_col1\" class=\"data row3 col1\" >ever_married</td>\n",
       "                        <td id=\"T_8aee2_row3_col2\" class=\"data row3 col2\" >bmi_class</td>\n",
       "                        <td id=\"T_8aee2_row3_col3\" class=\"data row3 col3\" >No</td>\n",
       "                        <td id=\"T_8aee2_row3_col4\" class=\"data row3 col4\" >obesity 2</td>\n",
       "                        <td id=\"T_8aee2_row3_col5\" class=\"data row3 col5\" >0.420230</td>\n",
       "                        <td id=\"T_8aee2_row3_col6\" class=\"data row3 col6\" >0.000009</td>\n",
       "            </tr>\n",
       "            <tr>\n",
       "                        <th id=\"T_8aee2_level0_row4\" class=\"row_heading level0 row4\" >1778</th>\n",
       "                        <td id=\"T_8aee2_row4_col0\" class=\"data row4 col0\" >heart_disease</td>\n",
       "                        <td id=\"T_8aee2_row4_col1\" class=\"data row4 col1\" >life_stage</td>\n",
       "                        <td id=\"T_8aee2_row4_col2\" class=\"data row4 col2\" >bmi_class</td>\n",
       "                        <td id=\"T_8aee2_row4_col3\" class=\"data row4 col3\" >senior Adult</td>\n",
       "                        <td id=\"T_8aee2_row4_col4\" class=\"data row4 col4\" >obesity 2</td>\n",
       "                        <td id=\"T_8aee2_row4_col5\" class=\"data row4 col5\" >0.403323</td>\n",
       "                        <td id=\"T_8aee2_row4_col6\" class=\"data row4 col6\" >0.000001</td>\n",
       "            </tr>\n",
       "            <tr>\n",
       "                        <th id=\"T_8aee2_level0_row5\" class=\"row_heading level0 row5\" >234</th>\n",
       "                        <td id=\"T_8aee2_row5_col0\" class=\"data row5 col0\" >heart_disease</td>\n",
       "                        <td id=\"T_8aee2_row5_col1\" class=\"data row5 col1\" >gender</td>\n",
       "                        <td id=\"T_8aee2_row5_col2\" class=\"data row5 col2\" >bmi_class</td>\n",
       "                        <td id=\"T_8aee2_row5_col3\" class=\"data row5 col3\" >Male</td>\n",
       "                        <td id=\"T_8aee2_row5_col4\" class=\"data row5 col4\" >obesity 2</td>\n",
       "                        <td id=\"T_8aee2_row5_col5\" class=\"data row5 col5\" >0.402196</td>\n",
       "                        <td id=\"T_8aee2_row5_col6\" class=\"data row5 col6\" >0.000000</td>\n",
       "            </tr>\n",
       "            <tr>\n",
       "                        <th id=\"T_8aee2_level0_row6\" class=\"row_heading level0 row6\" >511</th>\n",
       "                        <td id=\"T_8aee2_row6_col0\" class=\"data row6 col0\" >hypertension</td>\n",
       "                        <td id=\"T_8aee2_row6_col1\" class=\"data row6 col1\" >ever_married</td>\n",
       "                        <td id=\"T_8aee2_row6_col2\" class=\"data row6 col2\" >bmi_class</td>\n",
       "                        <td id=\"T_8aee2_row6_col3\" class=\"data row6 col3\" >No</td>\n",
       "                        <td id=\"T_8aee2_row6_col4\" class=\"data row6 col4\" >normal</td>\n",
       "                        <td id=\"T_8aee2_row6_col5\" class=\"data row6 col5\" >0.401720</td>\n",
       "                        <td id=\"T_8aee2_row6_col6\" class=\"data row6 col6\" >0.000000</td>\n",
       "            </tr>\n",
       "            <tr>\n",
       "                        <th id=\"T_8aee2_level0_row7\" class=\"row_heading level0 row7\" >560</th>\n",
       "                        <td id=\"T_8aee2_row7_col0\" class=\"data row7 col0\" >hypertension</td>\n",
       "                        <td id=\"T_8aee2_row7_col1\" class=\"data row7 col1\" >ever_married</td>\n",
       "                        <td id=\"T_8aee2_row7_col2\" class=\"data row7 col2\" >bmi_class_2</td>\n",
       "                        <td id=\"T_8aee2_row7_col3\" class=\"data row7 col3\" >No</td>\n",
       "                        <td id=\"T_8aee2_row7_col4\" class=\"data row7 col4\" >normal</td>\n",
       "                        <td id=\"T_8aee2_row7_col5\" class=\"data row7 col5\" >0.401720</td>\n",
       "                        <td id=\"T_8aee2_row7_col6\" class=\"data row7 col6\" >0.000000</td>\n",
       "            </tr>\n",
       "            <tr>\n",
       "                        <th id=\"T_8aee2_level0_row8\" class=\"row_heading level0 row8\" >380</th>\n",
       "                        <td id=\"T_8aee2_row8_col0\" class=\"data row8 col0\" >age</td>\n",
       "                        <td id=\"T_8aee2_row8_col1\" class=\"data row8 col1\" >ever_married</td>\n",
       "                        <td id=\"T_8aee2_row8_col2\" class=\"data row8 col2\" >smoking_status</td>\n",
       "                        <td id=\"T_8aee2_row8_col3\" class=\"data row8 col3\" >No</td>\n",
       "                        <td id=\"T_8aee2_row8_col4\" class=\"data row8 col4\" >never smoked</td>\n",
       "                        <td id=\"T_8aee2_row8_col5\" class=\"data row8 col5\" >0.398315</td>\n",
       "                        <td id=\"T_8aee2_row8_col6\" class=\"data row8 col6\" >0.000000</td>\n",
       "            </tr>\n",
       "            <tr>\n",
       "                        <th id=\"T_8aee2_level0_row9\" class=\"row_heading level0 row9\" >323</th>\n",
       "                        <td id=\"T_8aee2_row9_col0\" class=\"data row9 col0\" >age</td>\n",
       "                        <td id=\"T_8aee2_row9_col1\" class=\"data row9 col1\" >ever_married</td>\n",
       "                        <td id=\"T_8aee2_row9_col2\" class=\"data row9 col2\" >work_type</td>\n",
       "                        <td id=\"T_8aee2_row9_col3\" class=\"data row9 col3\" >No</td>\n",
       "                        <td id=\"T_8aee2_row9_col4\" class=\"data row9 col4\" >Private</td>\n",
       "                        <td id=\"T_8aee2_row9_col5\" class=\"data row9 col5\" >0.387331</td>\n",
       "                        <td id=\"T_8aee2_row9_col6\" class=\"data row9 col6\" >0.000000</td>\n",
       "            </tr>\n",
       "            <tr>\n",
       "                        <th id=\"T_8aee2_level0_row10\" class=\"row_heading level0 row10\" >325</th>\n",
       "                        <td id=\"T_8aee2_row10_col0\" class=\"data row10 col0\" >age</td>\n",
       "                        <td id=\"T_8aee2_row10_col1\" class=\"data row10 col1\" >ever_married</td>\n",
       "                        <td id=\"T_8aee2_row10_col2\" class=\"data row10 col2\" >work_type</td>\n",
       "                        <td id=\"T_8aee2_row10_col3\" class=\"data row10 col3\" >No</td>\n",
       "                        <td id=\"T_8aee2_row10_col4\" class=\"data row10 col4\" >Govt_job</td>\n",
       "                        <td id=\"T_8aee2_row10_col5\" class=\"data row10 col5\" >0.387251</td>\n",
       "                        <td id=\"T_8aee2_row10_col6\" class=\"data row10 col6\" >0.000016</td>\n",
       "            </tr>\n",
       "            <tr>\n",
       "                        <th id=\"T_8aee2_level0_row11\" class=\"row_heading level0 row11\" >1513</th>\n",
       "                        <td id=\"T_8aee2_row11_col0\" class=\"data row11 col0\" >avg_glucose_level</td>\n",
       "                        <td id=\"T_8aee2_row11_col1\" class=\"data row11 col1\" >smoking_status</td>\n",
       "                        <td id=\"T_8aee2_row11_col2\" class=\"data row11 col2\" >bmi_class</td>\n",
       "                        <td id=\"T_8aee2_row11_col3\" class=\"data row11 col3\" >smokes</td>\n",
       "                        <td id=\"T_8aee2_row11_col4\" class=\"data row11 col4\" >obesity 3</td>\n",
       "                        <td id=\"T_8aee2_row11_col5\" class=\"data row11 col5\" >0.362606</td>\n",
       "                        <td id=\"T_8aee2_row11_col6\" class=\"data row11 col6\" >0.001192</td>\n",
       "            </tr>\n",
       "            <tr>\n",
       "                        <th id=\"T_8aee2_level0_row12\" class=\"row_heading level0 row12\" >956</th>\n",
       "                        <td id=\"T_8aee2_row12_col0\" class=\"data row12 col0\" >age</td>\n",
       "                        <td id=\"T_8aee2_row12_col1\" class=\"data row12 col1\" >work_type</td>\n",
       "                        <td id=\"T_8aee2_row12_col2\" class=\"data row12 col2\" >bmi_class_2</td>\n",
       "                        <td id=\"T_8aee2_row12_col3\" class=\"data row12 col3\" >Private</td>\n",
       "                        <td id=\"T_8aee2_row12_col4\" class=\"data row12 col4\" >normal</td>\n",
       "                        <td id=\"T_8aee2_row12_col5\" class=\"data row12 col5\" >0.360845</td>\n",
       "                        <td id=\"T_8aee2_row12_col6\" class=\"data row12 col6\" >0.000000</td>\n",
       "            </tr>\n",
       "            <tr>\n",
       "                        <th id=\"T_8aee2_level0_row13\" class=\"row_heading level0 row13\" >838</th>\n",
       "                        <td id=\"T_8aee2_row13_col0\" class=\"data row13 col0\" >age</td>\n",
       "                        <td id=\"T_8aee2_row13_col1\" class=\"data row13 col1\" >work_type</td>\n",
       "                        <td id=\"T_8aee2_row13_col2\" class=\"data row13 col2\" >bmi_class</td>\n",
       "                        <td id=\"T_8aee2_row13_col3\" class=\"data row13 col3\" >Private</td>\n",
       "                        <td id=\"T_8aee2_row13_col4\" class=\"data row13 col4\" >normal</td>\n",
       "                        <td id=\"T_8aee2_row13_col5\" class=\"data row13 col5\" >0.360845</td>\n",
       "                        <td id=\"T_8aee2_row13_col6\" class=\"data row13 col6\" >0.000000</td>\n",
       "            </tr>\n",
       "            <tr>\n",
       "                        <th id=\"T_8aee2_level0_row14\" class=\"row_heading level0 row14\" >497</th>\n",
       "                        <td id=\"T_8aee2_row14_col0\" class=\"data row14 col0\" >age</td>\n",
       "                        <td id=\"T_8aee2_row14_col1\" class=\"data row14 col1\" >ever_married</td>\n",
       "                        <td id=\"T_8aee2_row14_col2\" class=\"data row14 col2\" >bmi_class</td>\n",
       "                        <td id=\"T_8aee2_row14_col3\" class=\"data row14 col3\" >No</td>\n",
       "                        <td id=\"T_8aee2_row14_col4\" class=\"data row14 col4\" >overweight</td>\n",
       "                        <td id=\"T_8aee2_row14_col5\" class=\"data row14 col5\" >0.356518</td>\n",
       "                        <td id=\"T_8aee2_row14_col6\" class=\"data row14 col6\" >0.000000</td>\n",
       "            </tr>\n",
       "    </tbody></table>   <style  type=\"text/css\" >\n",
       "</style><table id=\"T_4930f_\" style='display:inline'><caption>Rules with lower correlations </caption><thead>    <tr>        <th class=\"blank level0\" ></th>        <th class=\"col_heading level0 col0\" >col_ind</th>        <th class=\"col_heading level0 col1\" >Col</th>        <th class=\"col_heading level0 col2\" >Col2</th>        <th class=\"col_heading level0 col3\" >Val</th>        <th class=\"col_heading level0 col4\" >Val2</th>        <th class=\"col_heading level0 col5\" >Corr</th>        <th class=\"col_heading level0 col6\" >p-value</th>    </tr></thead><tbody>\n",
       "                <tr>\n",
       "                        <th id=\"T_4930f_level0_row0\" class=\"row_heading level0 row0\" >927</th>\n",
       "                        <td id=\"T_4930f_row0_col0\" class=\"data row0 col0\" >avg_glucose_level</td>\n",
       "                        <td id=\"T_4930f_row0_col1\" class=\"data row0 col1\" >work_type</td>\n",
       "                        <td id=\"T_4930f_row0_col2\" class=\"data row0 col2\" >bmi_class</td>\n",
       "                        <td id=\"T_4930f_row0_col3\" class=\"data row0 col3\" >Never_worked</td>\n",
       "                        <td id=\"T_4930f_row0_col4\" class=\"data row0 col4\" >obesity 1</td>\n",
       "                        <td id=\"T_4930f_row0_col5\" class=\"data row0 col5\" >-0.354680</td>\n",
       "                        <td id=\"T_4930f_row0_col6\" class=\"data row0 col6\" >0.096789</td>\n",
       "            </tr>\n",
       "            <tr>\n",
       "                        <th id=\"T_4930f_level0_row1\" class=\"row_heading level0 row1\" >2211</th>\n",
       "                        <td id=\"T_4930f_row1_col0\" class=\"data row1 col0\" >avg_glucose_level</td>\n",
       "                        <td id=\"T_4930f_row1_col1\" class=\"data row1 col1\" >bmi_class</td>\n",
       "                        <td id=\"T_4930f_row1_col2\" class=\"data row1 col2\" >worker</td>\n",
       "                        <td id=\"T_4930f_row1_col3\" class=\"data row1 col3\" >obesity 1</td>\n",
       "                        <td id=\"T_4930f_row1_col4\" class=\"data row1 col4\" >no</td>\n",
       "                        <td id=\"T_4930f_row1_col5\" class=\"data row1 col5\" >-0.354680</td>\n",
       "                        <td id=\"T_4930f_row1_col6\" class=\"data row1 col6\" >0.096789</td>\n",
       "            </tr>\n",
       "            <tr>\n",
       "                        <th id=\"T_4930f_level0_row2\" class=\"row_heading level0 row2\" >1728</th>\n",
       "                        <td id=\"T_4930f_row2_col0\" class=\"data row2 col0\" >age</td>\n",
       "                        <td id=\"T_4930f_row2_col1\" class=\"data row2 col1\" >life_stage</td>\n",
       "                        <td id=\"T_4930f_row2_col2\" class=\"data row2 col2\" >bmi_class</td>\n",
       "                        <td id=\"T_4930f_row2_col3\" class=\"data row2 col3\" >toddler</td>\n",
       "                        <td id=\"T_4930f_row2_col4\" class=\"data row2 col4\" >overweight</td>\n",
       "                        <td id=\"T_4930f_row2_col5\" class=\"data row2 col5\" >-0.337986</td>\n",
       "                        <td id=\"T_4930f_row2_col6\" class=\"data row2 col6\" >0.282594</td>\n",
       "            </tr>\n",
       "            <tr>\n",
       "                        <th id=\"T_4930f_level0_row3\" class=\"row_heading level0 row3\" >1889</th>\n",
       "                        <td id=\"T_4930f_row3_col0\" class=\"data row3 col0\" >age</td>\n",
       "                        <td id=\"T_4930f_row3_col1\" class=\"data row3 col1\" >life_stage</td>\n",
       "                        <td id=\"T_4930f_row3_col2\" class=\"data row3 col2\" >bmi_class_2</td>\n",
       "                        <td id=\"T_4930f_row3_col3\" class=\"data row3 col3\" >toddler</td>\n",
       "                        <td id=\"T_4930f_row3_col4\" class=\"data row3 col4\" >obesity</td>\n",
       "                        <td id=\"T_4930f_row3_col5\" class=\"data row3 col5\" >-0.327822</td>\n",
       "                        <td id=\"T_4930f_row3_col6\" class=\"data row3 col6\" >0.274192</td>\n",
       "            </tr>\n",
       "            <tr>\n",
       "                        <th id=\"T_4930f_level0_row4\" class=\"row_heading level0 row4\" >1830</th>\n",
       "                        <td id=\"T_4930f_row4_col0\" class=\"data row4 col0\" >avg_glucose_level</td>\n",
       "                        <td id=\"T_4930f_row4_col1\" class=\"data row4 col1\" >life_stage</td>\n",
       "                        <td id=\"T_4930f_row4_col2\" class=\"data row4 col2\" >bmi_class</td>\n",
       "                        <td id=\"T_4930f_row4_col3\" class=\"data row4 col3\" >toddler</td>\n",
       "                        <td id=\"T_4930f_row4_col4\" class=\"data row4 col4\" >overweight</td>\n",
       "                        <td id=\"T_4930f_row4_col5\" class=\"data row4 col5\" >-0.256009</td>\n",
       "                        <td id=\"T_4930f_row4_col6\" class=\"data row4 col6\" >0.421886</td>\n",
       "            </tr>\n",
       "            <tr>\n",
       "                        <th id=\"T_4930f_level0_row5\" class=\"row_heading level0 row5\" >1835</th>\n",
       "                        <td id=\"T_4930f_row5_col0\" class=\"data row5 col0\" >avg_glucose_level</td>\n",
       "                        <td id=\"T_4930f_row5_col1\" class=\"data row5 col1\" >life_stage</td>\n",
       "                        <td id=\"T_4930f_row5_col2\" class=\"data row5 col2\" >bmi_class</td>\n",
       "                        <td id=\"T_4930f_row5_col3\" class=\"data row5 col3\" >teen</td>\n",
       "                        <td id=\"T_4930f_row5_col4\" class=\"data row5 col4\" >obesity 1</td>\n",
       "                        <td id=\"T_4930f_row5_col5\" class=\"data row5 col5\" >-0.245445</td>\n",
       "                        <td id=\"T_4930f_row5_col6\" class=\"data row5 col6\" >0.117177</td>\n",
       "            </tr>\n",
       "            <tr>\n",
       "                        <th id=\"T_4930f_level0_row6\" class=\"row_heading level0 row6\" >1952</th>\n",
       "                        <td id=\"T_4930f_row6_col0\" class=\"data row6 col0\" >avg_glucose_level</td>\n",
       "                        <td id=\"T_4930f_row6_col1\" class=\"data row6 col1\" >life_stage</td>\n",
       "                        <td id=\"T_4930f_row6_col2\" class=\"data row6 col2\" >bmi_class_2</td>\n",
       "                        <td id=\"T_4930f_row6_col3\" class=\"data row6 col3\" >toddler</td>\n",
       "                        <td id=\"T_4930f_row6_col4\" class=\"data row6 col4\" >obesity</td>\n",
       "                        <td id=\"T_4930f_row6_col5\" class=\"data row6 col5\" >-0.238511</td>\n",
       "                        <td id=\"T_4930f_row6_col6\" class=\"data row6 col6\" >0.432606</td>\n",
       "            </tr>\n",
       "            <tr>\n",
       "                        <th id=\"T_4930f_level0_row7\" class=\"row_heading level0 row7\" >2173</th>\n",
       "                        <td id=\"T_4930f_row7_col0\" class=\"data row7 col0\" >age</td>\n",
       "                        <td id=\"T_4930f_row7_col1\" class=\"data row7 col1\" >bmi_class</td>\n",
       "                        <td id=\"T_4930f_row7_col2\" class=\"data row7 col2\" >worker</td>\n",
       "                        <td id=\"T_4930f_row7_col3\" class=\"data row7 col3\" >overweight</td>\n",
       "                        <td id=\"T_4930f_row7_col4\" class=\"data row7 col4\" >no</td>\n",
       "                        <td id=\"T_4930f_row7_col5\" class=\"data row7 col5\" >-0.225203</td>\n",
       "                        <td id=\"T_4930f_row7_col6\" class=\"data row7 col6\" >0.057174</td>\n",
       "            </tr>\n",
       "            <tr>\n",
       "                        <th id=\"T_4930f_level0_row8\" class=\"row_heading level0 row8\" >854</th>\n",
       "                        <td id=\"T_4930f_row8_col0\" class=\"data row8 col0\" >age</td>\n",
       "                        <td id=\"T_4930f_row8_col1\" class=\"data row8 col1\" >work_type</td>\n",
       "                        <td id=\"T_4930f_row8_col2\" class=\"data row8 col2\" >bmi_class</td>\n",
       "                        <td id=\"T_4930f_row8_col3\" class=\"data row8 col3\" >Never_worked</td>\n",
       "                        <td id=\"T_4930f_row8_col4\" class=\"data row8 col4\" >overweight</td>\n",
       "                        <td id=\"T_4930f_row8_col5\" class=\"data row8 col5\" >-0.225203</td>\n",
       "                        <td id=\"T_4930f_row8_col6\" class=\"data row8 col6\" >0.057174</td>\n",
       "            </tr>\n",
       "            <tr>\n",
       "                        <th id=\"T_4930f_level0_row9\" class=\"row_heading level0 row9\" >951</th>\n",
       "                        <td id=\"T_4930f_row9_col0\" class=\"data row9 col0\" >bmi</td>\n",
       "                        <td id=\"T_4930f_row9_col1\" class=\"data row9 col1\" >work_type</td>\n",
       "                        <td id=\"T_4930f_row9_col2\" class=\"data row9 col2\" >bmi_class</td>\n",
       "                        <td id=\"T_4930f_row9_col3\" class=\"data row9 col3\" >Never_worked</td>\n",
       "                        <td id=\"T_4930f_row9_col4\" class=\"data row9 col4\" >obesity 1</td>\n",
       "                        <td id=\"T_4930f_row9_col5\" class=\"data row9 col5\" >-0.206309</td>\n",
       "                        <td id=\"T_4930f_row9_col6\" class=\"data row9 col6\" >0.344935</td>\n",
       "            </tr>\n",
       "            <tr>\n",
       "                        <th id=\"T_4930f_level0_row10\" class=\"row_heading level0 row10\" >2223</th>\n",
       "                        <td id=\"T_4930f_row10_col0\" class=\"data row10 col0\" >bmi</td>\n",
       "                        <td id=\"T_4930f_row10_col1\" class=\"data row10 col1\" >bmi_class</td>\n",
       "                        <td id=\"T_4930f_row10_col2\" class=\"data row10 col2\" >worker</td>\n",
       "                        <td id=\"T_4930f_row10_col3\" class=\"data row10 col3\" >obesity 1</td>\n",
       "                        <td id=\"T_4930f_row10_col4\" class=\"data row10 col4\" >no</td>\n",
       "                        <td id=\"T_4930f_row10_col5\" class=\"data row10 col5\" >-0.206309</td>\n",
       "                        <td id=\"T_4930f_row10_col6\" class=\"data row10 col6\" >0.344935</td>\n",
       "            </tr>\n",
       "            <tr>\n",
       "                        <th id=\"T_4930f_level0_row11\" class=\"row_heading level0 row11\" >1733</th>\n",
       "                        <td id=\"T_4930f_row11_col0\" class=\"data row11 col0\" >age</td>\n",
       "                        <td id=\"T_4930f_row11_col1\" class=\"data row11 col1\" >life_stage</td>\n",
       "                        <td id=\"T_4930f_row11_col2\" class=\"data row11 col2\" >bmi_class</td>\n",
       "                        <td id=\"T_4930f_row11_col3\" class=\"data row11 col3\" >teen</td>\n",
       "                        <td id=\"T_4930f_row11_col4\" class=\"data row11 col4\" >obesity 1</td>\n",
       "                        <td id=\"T_4930f_row11_col5\" class=\"data row11 col5\" >-0.178795</td>\n",
       "                        <td id=\"T_4930f_row11_col6\" class=\"data row11 col6\" >0.257250</td>\n",
       "            </tr>\n",
       "            <tr>\n",
       "                        <th id=\"T_4930f_level0_row12\" class=\"row_heading level0 row12\" >1399</th>\n",
       "                        <td id=\"T_4930f_row12_col0\" class=\"data row12 col0\" >hypertension</td>\n",
       "                        <td id=\"T_4930f_row12_col1\" class=\"data row12 col1\" >smoking_status</td>\n",
       "                        <td id=\"T_4930f_row12_col2\" class=\"data row12 col2\" >potential_diabetic</td>\n",
       "                        <td id=\"T_4930f_row12_col3\" class=\"data row12 col3\" >Unknown</td>\n",
       "                        <td id=\"T_4930f_row12_col4\" class=\"data row12 col4\" >yes</td>\n",
       "                        <td id=\"T_4930f_row12_col5\" class=\"data row12 col5\" >-0.165189</td>\n",
       "                        <td id=\"T_4930f_row12_col6\" class=\"data row12 col6\" >0.098774</td>\n",
       "            </tr>\n",
       "            <tr>\n",
       "                        <th id=\"T_4930f_level0_row13\" class=\"row_heading level0 row13\" >1525</th>\n",
       "                        <td id=\"T_4930f_row13_col0\" class=\"data row13 col0\" >bmi</td>\n",
       "                        <td id=\"T_4930f_row13_col1\" class=\"data row13 col1\" >smoking_status</td>\n",
       "                        <td id=\"T_4930f_row13_col2\" class=\"data row13 col2\" >bmi_class</td>\n",
       "                        <td id=\"T_4930f_row13_col3\" class=\"data row13 col3\" >formerly smoked</td>\n",
       "                        <td id=\"T_4930f_row13_col4\" class=\"data row13 col4\" >obesity 3</td>\n",
       "                        <td id=\"T_4930f_row13_col5\" class=\"data row13 col5\" >-0.156281</td>\n",
       "                        <td id=\"T_4930f_row13_col6\" class=\"data row13 col6\" >0.150739</td>\n",
       "            </tr>\n",
       "            <tr>\n",
       "                        <th id=\"T_4930f_level0_row14\" class=\"row_heading level0 row14\" >2249</th>\n",
       "                        <td id=\"T_4930f_row14_col0\" class=\"data row14 col0\" >avg_glucose_level</td>\n",
       "                        <td id=\"T_4930f_row14_col1\" class=\"data row14 col1\" >bmi_class_2</td>\n",
       "                        <td id=\"T_4930f_row14_col2\" class=\"data row14 col2\" >worker</td>\n",
       "                        <td id=\"T_4930f_row14_col3\" class=\"data row14 col3\" >obesity</td>\n",
       "                        <td id=\"T_4930f_row14_col4\" class=\"data row14 col4\" >no</td>\n",
       "                        <td id=\"T_4930f_row14_col5\" class=\"data row14 col5\" >-0.153518</td>\n",
       "                        <td id=\"T_4930f_row14_col6\" class=\"data row14 col6\" >0.114399</td>\n",
       "            </tr>\n",
       "    </tbody></table>   "
      ],
      "text/plain": [
       "<IPython.core.display.HTML object>"
      ]
     },
     "metadata": {},
     "output_type": "display_data"
    }
   ],
   "source": [
    "corr_list = []\n",
    "\n",
    "cols = df_eda_cat.columns\n",
    "for i in range(len(cols)):\n",
    "    for j in range(i, len(cols)):\n",
    "        if i == j: continue\n",
    "        col, col2 = cols[i], cols[j]\n",
    "        for col_ind in df_eda_num.columns:\n",
    "            if col_ind == 'stroke': continue\n",
    "            for val in df_eda[col].unique():\n",
    "                for val2 in df_eda[col2].unique():\n",
    "                    #if val == val2: continue\n",
    "                    x = df_eda[(df_eda[col]==val)&(df_eda[col2]==val2)][col_ind]\n",
    "                    y = df_eda[(df_eda[col]==val)&(df_eda[col2]==val2)]['stroke']\n",
    "                    if x.shape[0] >= 2:\n",
    "                        corr = pointbiserialr(x,y)\n",
    "                        #break\n",
    "                        #corr = pointbiserialr(df_eda[(df_eda[col]==val)&(df_eda[col2]==val2), df_eda[(df_eda[col]==val)&(df_eda[col2]==val2)]['stroke'])\n",
    "                        corr_list.append([col_ind, col, col2, val, val2, corr[0], corr[1]])\n",
    "                        #print([col, col2, val, val2, corr[0], corr[1]])\n",
    "                    \n",
    "df_corr= pd.DataFrame(corr_list, columns=['col_ind', 'Col', 'Col2', 'Val', 'Val2', 'Corr', 'p-value']).dropna().sort_values(by='Corr', ascending=False)\n",
    "df1 = df_corr.head(15)\n",
    "df2 = df_corr.tail(15).iloc[::-1]\n",
    "\n",
    "display_side_by_side([df1, df2], ['Rules with higher correlations ', 'Rules with lower correlations '])"
   ]
  },
  {
   "cell_type": "markdown",
   "id": "false-powell",
   "metadata": {
    "ExecuteTime": {
     "end_time": "2021-03-28T06:01:05.061247Z",
     "start_time": "2021-03-28T06:01:05.054267Z"
    },
    "hidden": true
   },
   "source": [
    "There are several combinations that has a strong correlation with having a stroke. For example, if ever_married=No and bmi_class=obesity 2, age strong positive correlation with having a stroke, while being a overweighted toddler decreases the chance of having a stroke as age increases."
   ]
  },
  {
   "cell_type": "markdown",
   "id": "entertaining-freedom",
   "metadata": {},
   "source": [
    "#### Hyphoteses Summary"
   ]
  },
  {
   "cell_type": "code",
   "execution_count": 81,
   "id": "awful-chapel",
   "metadata": {
    "ExecuteTime": {
     "end_time": "2021-03-28T06:43:12.988456Z",
     "start_time": "2021-03-28T06:43:12.974984Z"
    }
   },
   "outputs": [
    {
     "name": "stdout",
     "output_type": "stream",
     "text": [
      "Hyphotesis    Conclusion      Correlation\n",
      "------------  ------------  -------------\n",
      "H1            True                 0.2453\n",
      "H2            True                 0.1279\n",
      "H3            True                 0.1349\n",
      "H4            True                 0.1083\n",
      "H5            False                0.0096\n",
      "H5.1          True                 0.0856\n",
      "H6            True                 0.0592\n",
      "H7            True                 0.0155\n",
      "H8            True                 0.1319\n",
      "H9            True                 0.1465\n",
      "H10           False                0.1349\n",
      "H11           True                 0.1349\n"
     ]
    }
   ],
   "source": [
    "tab = [['Hyphotesis', 'Conclusion', 'Correlation'],\n",
    "['H1', 'True', 0.2453],\n",
    "['H2', 'True', 0.1279],\n",
    "['H3', 'True', 0.1349],\n",
    "['H4', 'True', 0.1083],\n",
    "['H5', 'False', 0.0096],\n",
    "['H5.1', 'True', 0.0856],\n",
    "['H6', 'True', 0.0592],\n",
    "['H7', 'True', 0.0155],\n",
    "['H8', 'True', 0.1319],\n",
    "['H9', 'True', 0.1465],\n",
    "['H10', 'False', 0.1349],\n",
    "['H11', 'True', 0.1349]]\n",
    "\n",
    "print(tabulate(tab, headers='firstrow'))"
   ]
  }
 ],
 "metadata": {
  "kernelspec": {
   "display_name": "Python 3",
   "language": "python",
   "name": "python3"
  },
  "language_info": {
   "codemirror_mode": {
    "name": "ipython",
    "version": 3
   },
   "file_extension": ".py",
   "mimetype": "text/x-python",
   "name": "python",
   "nbconvert_exporter": "python",
   "pygments_lexer": "ipython3",
   "version": "3.7.10"
  },
  "varInspector": {
   "cols": {
    "lenName": 16,
    "lenType": 16,
    "lenVar": 40
   },
   "kernels_config": {
    "python": {
     "delete_cmd_postfix": "",
     "delete_cmd_prefix": "del ",
     "library": "var_list.py",
     "varRefreshCmd": "print(var_dic_list())"
    },
    "r": {
     "delete_cmd_postfix": ") ",
     "delete_cmd_prefix": "rm(",
     "library": "var_list.r",
     "varRefreshCmd": "cat(var_dic_list()) "
    }
   },
   "types_to_exclude": [
    "module",
    "function",
    "builtin_function_or_method",
    "instance",
    "_Feature"
   ],
   "window_display": false
  }
 },
 "nbformat": 4,
 "nbformat_minor": 5
}
